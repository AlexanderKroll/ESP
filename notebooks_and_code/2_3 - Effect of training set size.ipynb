{
 "cells": [
  {
   "cell_type": "code",
   "execution_count": 1,
   "metadata": {},
   "outputs": [
    {
     "name": "stdout",
     "output_type": "stream",
     "text": [
      "C:\\Users\\alexk\\projects\\SubFinder\\notebooks_and_code\n"
     ]
    }
   ],
   "source": [
    "import pandas as pd\n",
    "import numpy as np\n",
    "import random\n",
    "import pickle\n",
    "import sys\n",
    "import os\n",
    "import logging\n",
    "from os.path import join\n",
    "from sklearn.model_selection import KFold\n",
    "from sklearn.metrics import roc_auc_score\n",
    "from hyperopt import fmin, tpe, hp, Trials, rand\n",
    "import xgboost as xgb\n",
    "\n",
    "\n",
    "sys.path.append('.\\\\additional_code')\n",
    "from data_preprocessing import *\n",
    "\n",
    "CURRENT_DIR = os.getcwd()\n",
    "print(CURRENT_DIR)"
   ]
  },
  {
   "cell_type": "markdown",
   "metadata": {},
   "source": [
    "## 1. Loading and preprocessing data for model training and evaluation"
   ]
  },
  {
   "cell_type": "code",
   "execution_count": 2,
   "metadata": {},
   "outputs": [],
   "source": [
    "def array_column_to_strings(df, column):\n",
    "    df[column] = [str(list(df[column][ind])) for ind in df.index]\n",
    "    return(df)\n",
    "\n",
    "def string_column_to_array(df, column):\n",
    "    df[column] = [np.array(eval(df[column][ind])) for ind in df.index]\n",
    "    return(df)"
   ]
  },
  {
   "cell_type": "markdown",
   "metadata": {},
   "source": [
    "### (a) Loading data: \n",
    "Only keeping data points from the GO Annotation database with experimental evidence"
   ]
  },
  {
   "cell_type": "code",
   "execution_count": 3,
   "metadata": {},
   "outputs": [
    {
     "name": "stderr",
     "output_type": "stream",
     "text": [
      "C:\\Users\\alexk\\anaconda3\\envs\\Predicting_Km\\lib\\site-packages\\pandas\\core\\ops\\array_ops.py:56: FutureWarning: elementwise comparison failed; returning scalar instead, but in the future will perform elementwise comparison\n",
      "  result = libops.scalar_compare(x.ravel(), y, op)\n"
     ]
    }
   ],
   "source": [
    "df_test  = pd.read_pickle(join(CURRENT_DIR, \"..\" ,\"data\",\"splits\", \"df_test_with_ESM1b_ts.pkl\"))\n",
    "df_test = df_test.loc[df_test[\"ESM1b\"] != \"\"]\n",
    "df_test = df_test.loc[df_test[\"type\"] != \"engqvist\"]\n",
    "df_test.reset_index(inplace = True, drop = True)"
   ]
  },
  {
   "cell_type": "code",
   "execution_count": 4,
   "metadata": {},
   "outputs": [
    {
     "name": "stderr",
     "output_type": "stream",
     "text": [
      "C:\\Users\\alexk\\anaconda3\\envs\\Predicting_Km\\lib\\site-packages\\pandas\\core\\ops\\array_ops.py:56: FutureWarning: elementwise comparison failed; returning scalar instead, but in the future will perform elementwise comparison\n",
      "  result = libops.scalar_compare(x.ravel(), y, op)\n"
     ]
    }
   ],
   "source": [
    "df_train = pd.read_pickle(join(CURRENT_DIR, \"..\" ,\"data\",\"splits\", \"df_train_with_ESM1b_ts.pkl\"))\n",
    "df_train = df_train.loc[df_train[\"ESM1b\"] != \"\"]\n",
    "df_train = df_train.loc[df_train[\"type\"] != \"engqvist\"]\n",
    "df_train.reset_index(inplace = True, drop = True)\n",
    "\n",
    "training_UIDs = list(set(df_train[\"Uniprot ID\"]))\n",
    "random.seed(1)\n",
    "random.shuffle(training_UIDs)"
   ]
  },
  {
   "cell_type": "code",
   "execution_count": 5,
   "metadata": {},
   "outputs": [],
   "source": [
    "perc_train_UIDs = [0.3, 0.4, 0.5, 0.6, 0.7, 0.8,0.9,1]"
   ]
  },
  {
   "cell_type": "code",
   "execution_count": 6,
   "metadata": {},
   "outputs": [],
   "source": [
    "def create_input_and_output_data(df):\n",
    "    X = ();\n",
    "    y = ();\n",
    "    \n",
    "    for ind in df.index:\n",
    "        emb = df[\"ESM1b_ts\"][ind]\n",
    "        ecfp = np.array(list(df[\"ECFP\"][ind])).astype(int)\n",
    "                \n",
    "        X = X +(np.concatenate([ecfp, emb]), );\n",
    "        y = y + (df[\"Binding\"][ind], );\n",
    "\n",
    "    return(X,y)\n",
    "\n",
    "test_X, test_y =  create_input_and_output_data(df = df_test)\n",
    "test_X  = np.array(test_X)\n",
    "test_y  = np.array(test_y)\n",
    "\n",
    "feature_names =  [\"ECFP_\" + str(i) for i in range(1024)]\n",
    "feature_names = feature_names + [\"ESM1b_ts_\" + str(i) for i in range(1280)]\n",
    "\n",
    "\n",
    "param = {'learning_rate': 0.15917704923273152,\n",
    "         'max_delta_step': 1.7353728616058994,\n",
    "         'max_depth': 13,\n",
    "         'min_child_weight': 0.673210377384308,\n",
    "         'num_rounds': 348.8637424995683,\n",
    "         'reg_alpha': 0.6494996393882403,\n",
    "         'reg_lambda': 4.788419497732649,\n",
    "         'weight': 0.1472560534922695}\n",
    "\n",
    "\n",
    "param = {'learning_rate': 0.31553117247348733,\n",
    "         'max_delta_step': 1.7726044219753656,\n",
    "         'max_depth': 10,\n",
    "         'min_child_weight': 1.3845040588450772,\n",
    "         'num_rounds': 342.68325188584106,\n",
    "         'reg_alpha': 0.531395259755843,\n",
    "         'reg_lambda': 3.744980563764689,\n",
    "         'weight': 0.26187490421514203}\n",
    "\n",
    "num_round = param[\"num_rounds\"]\n",
    "param[\"tree_method\"] = \"gpu_hist\"\n",
    "param[\"sampling_method\"] = \"gradient_based\"\n",
    "param['objective'] = 'binary:logistic'\n",
    "weights = np.array([param[\"weight\"] if binding == 0 else 1.0 for binding in df_train[\"Binding\"]])\n",
    "\n",
    "del param[\"num_rounds\"]\n",
    "del param[\"weight\"]"
   ]
  },
  {
   "cell_type": "code",
   "execution_count": 9,
   "metadata": {},
   "outputs": [
    {
     "name": "stderr",
     "output_type": "stream",
     "text": [
      "C:\\Users\\alexk\\anaconda3\\envs\\Predicting_Km\\lib\\site-packages\\pandas\\core\\ops\\array_ops.py:56: FutureWarning: elementwise comparison failed; returning scalar instead, but in the future will perform elementwise comparison\n",
      "  result = libops.scalar_compare(x.ravel(), y, op)\n"
     ]
    },
    {
     "name": "stdout",
     "output_type": "stream",
     "text": [
      "Number of training points: 13254, Number of Uniprot IDs: 2920, Percentage: 0.3 \n",
      "Accuracy on test set: 0.8218260705527259, ROC-AUC score for test set: 0.8993568900892903\n"
     ]
    },
    {
     "name": "stderr",
     "output_type": "stream",
     "text": [
      "C:\\Users\\alexk\\anaconda3\\envs\\Predicting_Km\\lib\\site-packages\\pandas\\core\\ops\\array_ops.py:56: FutureWarning: elementwise comparison failed; returning scalar instead, but in the future will perform elementwise comparison\n",
      "  result = libops.scalar_compare(x.ravel(), y, op)\n"
     ]
    },
    {
     "name": "stdout",
     "output_type": "stream",
     "text": [
      "Number of training points: 17637, Number of Uniprot IDs: 3894, Percentage: 0.4 \n",
      "Accuracy on test set: 0.8383323901150727, ROC-AUC score for test set: 0.9138827715820028\n"
     ]
    },
    {
     "name": "stderr",
     "output_type": "stream",
     "text": [
      "C:\\Users\\alexk\\anaconda3\\envs\\Predicting_Km\\lib\\site-packages\\pandas\\core\\ops\\array_ops.py:56: FutureWarning: elementwise comparison failed; returning scalar instead, but in the future will perform elementwise comparison\n",
      "  result = libops.scalar_compare(x.ravel(), y, op)\n"
     ]
    },
    {
     "name": "stdout",
     "output_type": "stream",
     "text": [
      "Number of training points: 22164, Number of Uniprot IDs: 4867, Percentage: 0.5 \n",
      "Accuracy on test set: 0.8461611016789286, ROC-AUC score for test set: 0.9214056778536516\n"
     ]
    },
    {
     "name": "stderr",
     "output_type": "stream",
     "text": [
      "C:\\Users\\alexk\\anaconda3\\envs\\Predicting_Km\\lib\\site-packages\\pandas\\core\\ops\\array_ops.py:56: FutureWarning: elementwise comparison failed; returning scalar instead, but in the future will perform elementwise comparison\n",
      "  result = libops.scalar_compare(x.ravel(), y, op)\n"
     ]
    },
    {
     "name": "stdout",
     "output_type": "stream",
     "text": [
      "Number of training points: 26493, Number of Uniprot IDs: 5841, Percentage: 0.6 \n",
      "Accuracy on test set: 0.8544614223731372, ROC-AUC score for test set: 0.9294462532135879\n"
     ]
    },
    {
     "name": "stderr",
     "output_type": "stream",
     "text": [
      "C:\\Users\\alexk\\anaconda3\\envs\\Predicting_Km\\lib\\site-packages\\pandas\\core\\ops\\array_ops.py:56: FutureWarning: elementwise comparison failed; returning scalar instead, but in the future will perform elementwise comparison\n",
      "  result = libops.scalar_compare(x.ravel(), y, op)\n"
     ]
    },
    {
     "name": "stdout",
     "output_type": "stream",
     "text": [
      "Number of training points: 30891, Number of Uniprot IDs: 6814, Percentage: 0.7 \n",
      "Accuracy on test set: 0.862101490284852, ROC-AUC score for test set: 0.9341809206322669\n"
     ]
    },
    {
     "name": "stderr",
     "output_type": "stream",
     "text": [
      "C:\\Users\\alexk\\anaconda3\\envs\\Predicting_Km\\lib\\site-packages\\pandas\\core\\ops\\array_ops.py:56: FutureWarning: elementwise comparison failed; returning scalar instead, but in the future will perform elementwise comparison\n",
      "  result = libops.scalar_compare(x.ravel(), y, op)\n"
     ]
    },
    {
     "name": "stdout",
     "output_type": "stream",
     "text": [
      "Number of training points: 35178, Number of Uniprot IDs: 7788, Percentage: 0.8 \n",
      "Accuracy on test set: 0.8689869835880023, ROC-AUC score for test set: 0.9406835217688049\n"
     ]
    },
    {
     "name": "stderr",
     "output_type": "stream",
     "text": [
      "C:\\Users\\alexk\\anaconda3\\envs\\Predicting_Km\\lib\\site-packages\\pandas\\core\\ops\\array_ops.py:56: FutureWarning: elementwise comparison failed; returning scalar instead, but in the future will perform elementwise comparison\n",
      "  result = libops.scalar_compare(x.ravel(), y, op)\n"
     ]
    },
    {
     "name": "stdout",
     "output_type": "stream",
     "text": [
      "Number of training points: 39552, Number of Uniprot IDs: 8761, Percentage: 0.9 \n",
      "Accuracy on test set: 0.8740803621958121, ROC-AUC score for test set: 0.9453938280537131\n"
     ]
    },
    {
     "name": "stderr",
     "output_type": "stream",
     "text": [
      "C:\\Users\\alexk\\anaconda3\\envs\\Predicting_Km\\lib\\site-packages\\pandas\\core\\ops\\array_ops.py:56: FutureWarning: elementwise comparison failed; returning scalar instead, but in the future will perform elementwise comparison\n",
      "  result = libops.scalar_compare(x.ravel(), y, op)\n"
     ]
    },
    {
     "name": "stdout",
     "output_type": "stream",
     "text": [
      "Number of training points: 44043, Number of Uniprot IDs: 9735, Percentage: 1 \n",
      "Accuracy on test set: 0.8780418788907753, ROC-AUC score for test set: 0.947575420628904\n"
     ]
    }
   ],
   "source": [
    "accuracies = []\n",
    "roc_auc_scores = []\n",
    "\n",
    "for i, perc in enumerate(perc_train_UIDs):\n",
    "\n",
    "    df_train = pd.read_pickle(join(CURRENT_DIR, \"..\" ,\"data\",\"splits\", \"df_train_with_ESM1b_ts.pkl\"))\n",
    "    df_train = df_train.loc[df_train[\"ESM1b\"] != \"\"]\n",
    "    df_train = df_train.loc[df_train[\"type\"] != \"engqvist\"]\n",
    "    df_train.reset_index(inplace = True, drop = True)\n",
    "\n",
    "    use_UIDs = training_UIDs[:int(perc*len(training_UIDs))]\n",
    "    df_train = df_train.loc[df_train[\"Uniprot ID\"].isin(use_UIDs)]\n",
    "    print(\"Number of training points: %s, Number of Uniprot IDs: %s, Percentage: %s \" % (len(df_train), len (use_UIDs), perc))\n",
    "    train_X, train_y =  create_input_and_output_data(df = df_train)\n",
    "    train_X = np.array(train_X)\n",
    "    train_y = np.array(train_y)\n",
    "    \n",
    "    weights = np.array([0.1472560534922695 if binding == 0 else 1.0 for binding in df_train[\"Binding\"]])\n",
    "    \n",
    "    dtrain = xgb.DMatrix(np.array(train_X), weight = weights, label = np.array(train_y),\n",
    "                feature_names= feature_names)\n",
    "    dtest = xgb.DMatrix(np.array(test_X), label = np.array(test_y),\n",
    "                        feature_names= feature_names)\n",
    "\n",
    "    bst = xgb.train(param,  dtrain, int(num_round), verbose_eval=1)\n",
    "    y_test_pred = np.round(bst.predict(dtest))\n",
    "    acc_test = np.mean(y_test_pred == np.array(test_y))\n",
    "    roc_auc = roc_auc_score(np.array(test_y), bst.predict(dtest))\n",
    "    \n",
    "    accuracies.append(acc_test), roc_auc_scores.append(roc_auc)\n",
    "   \n",
    "    print(\"Accuracy on test set: %s, ROC-AUC score for test set: %s\"  % (acc_test, roc_auc))\n"
   ]
  },
  {
   "cell_type": "code",
   "execution_count": null,
   "metadata": {},
   "outputs": [],
   "source": [
    "accuracies = [0.8218260705527259, 0.8383323901150727, 0.8461611016789286, 0.8544614223731372, 0.862101490284852, 0.8689869835880023, 0.8740803621958121, 0.8780418788907753]\n",
    "roc_auc_scores = [0.8993568900892903, 0.9138827715820028, 0.9214056778536516, 0.9294462532135879, 0.9341809206322669, 0.9406835217688049, 0.9453938280537131, 0.947575420628904]"
   ]
  }
 ],
 "metadata": {
  "kernelspec": {
   "display_name": "Python 3",
   "language": "python",
   "name": "python3"
  },
  "language_info": {
   "codemirror_mode": {
    "name": "ipython",
    "version": 3
   },
   "file_extension": ".py",
   "mimetype": "text/x-python",
   "name": "python",
   "nbconvert_exporter": "python",
   "pygments_lexer": "ipython3",
   "version": "3.7.0"
  }
 },
 "nbformat": 4,
 "nbformat_minor": 4
}
