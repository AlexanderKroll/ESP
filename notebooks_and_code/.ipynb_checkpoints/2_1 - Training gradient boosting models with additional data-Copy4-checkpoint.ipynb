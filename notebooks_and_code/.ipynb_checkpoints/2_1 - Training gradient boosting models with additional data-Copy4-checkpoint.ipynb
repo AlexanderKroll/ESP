{
 "cells": [
  {
   "cell_type": "markdown",
   "metadata": {},
   "source": [
    "# Training gradient boosting model for enzyme-substrate pair prediction with ESM-1b-vectors"
   ]
  },
  {
   "cell_type": "markdown",
   "metadata": {},
   "source": [
    "### 1. Loading and preprocessing data for model training and evaluation\n",
    "### 2. Hyperparameter optimization using a 5-fold cross-validation (CV)\n",
    "### 3. Training and validating the final model"
   ]
  },
  {
   "cell_type": "code",
   "execution_count": 1,
   "metadata": {},
   "outputs": [
    {
     "name": "stdout",
     "output_type": "stream",
     "text": [
      "C:\\Users\\alexk\\projects\\SubFinder\\notebooks_and_code\n"
     ]
    }
   ],
   "source": [
    "import pandas as pd\n",
    "import numpy as np\n",
    "import random\n",
    "import pickle\n",
    "import sys\n",
    "import os\n",
    "import logging\n",
    "from os.path import join\n",
    "from sklearn.model_selection import KFold\n",
    "from hyperopt import fmin, tpe, hp, Trials, rand\n",
    "import xgboost as xgb\n",
    "from sklearn.metrics import roc_auc_score\n",
    "\n",
    "sys.path.append('.\\\\additional_code')\n",
    "from data_preprocessing import *\n",
    "\n",
    "CURRENT_DIR = os.getcwd()\n",
    "print(CURRENT_DIR)"
   ]
  },
  {
   "cell_type": "markdown",
   "metadata": {},
   "source": [
    "## 1. Loading and preprocessing data for model training and evaluation"
   ]
  },
  {
   "cell_type": "markdown",
   "metadata": {},
   "source": [
    "### (a) Loading data:"
   ]
  },
  {
   "cell_type": "code",
   "execution_count": 2,
   "metadata": {},
   "outputs": [
    {
     "name": "stderr",
     "output_type": "stream",
     "text": [
      "C:\\Users\\alexk\\anaconda3\\envs\\Predicting_Km\\lib\\site-packages\\pandas\\core\\ops\\array_ops.py:56: FutureWarning: elementwise comparison failed; returning scalar instead, but in the future will perform elementwise comparison\n",
      "  result = libops.scalar_compare(x.ravel(), y, op)\n"
     ]
    }
   ],
   "source": [
    "df_test  = pd.read_pickle(join(CURRENT_DIR, \"..\" ,\"data\",\"splits\", \"df_test_with_EC1_1_3_15_with_ESM1b_ts_V2.pkl\"))\n",
    "df_test = df_test.loc[df_test[\"ESM1b_ts\"] != \"\"]\n",
    "df_test.reset_index(inplace = True, drop = True)"
   ]
  },
  {
   "cell_type": "markdown",
   "metadata": {},
   "source": [
    "Loading new dataset:"
   ]
  },
  {
   "cell_type": "code",
   "execution_count": 3,
   "metadata": {},
   "outputs": [],
   "source": [
    "df_test_new = pd.read_pickle(join(CURRENT_DIR, \"..\" ,\"data\", \"enzyme_substrate_data\",\n",
    "                                  \"df_EC1_1_3_15_with_enzyme_reps.pkl\"))"
   ]
  },
  {
   "cell_type": "code",
   "execution_count": 4,
   "metadata": {},
   "outputs": [],
   "source": [
    "def create_input_and_output_data(df):\n",
    "    X = ();\n",
    "    y = ();\n",
    "    \n",
    "    for ind in df.index:\n",
    "        emb = df[\"ESM1b_ts\"][ind]\n",
    "        ecfp = np.array(list(df[\"ECFP\"][ind])).astype(int)\n",
    "                \n",
    "        X = X +(np.concatenate([ecfp, emb]), );\n",
    "        y = y + (df[\"Binding\"][ind], );\n",
    "\n",
    "    return(np.array(X),np.array(y))\n",
    "\n",
    "feature_names =  [\"ECFP_\" + str(i) for i in range(1024)]\n",
    "feature_names = feature_names + [\"ESM1b_ts_\" + str(i) for i in range(1280)]"
   ]
  },
  {
   "cell_type": "markdown",
   "metadata": {},
   "source": [
    "Randomly sample 10 enzymes that will be part of the training set:"
   ]
  },
  {
   "cell_type": "code",
   "execution_count": 5,
   "metadata": {},
   "outputs": [],
   "source": [
    "import matplotlib.pyplot as plt"
   ]
  },
  {
   "cell_type": "code",
   "execution_count": 8,
   "metadata": {
    "scrolled": false
   },
   "outputs": [
    {
     "name": "stderr",
     "output_type": "stream",
     "text": [
      "C:\\Users\\alexk\\anaconda3\\envs\\Predicting_Km\\lib\\site-packages\\pandas\\core\\ops\\array_ops.py:56: FutureWarning: elementwise comparison failed; returning scalar instead, but in the future will perform elementwise comparison\n",
      "  result = libops.scalar_compare(x.ravel(), y, op)\n"
     ]
    },
    {
     "name": "stdout",
     "output_type": "stream",
     "text": [
      "Accuracy on test set: 0.8528579513299378, ROC-AUC score for test set: 0.942999290744707\n",
      "All enzymes:\n",
      "Accuracy on test set: 0.8015873015873016, ROC-AUC score for test set: 0.9309385277004806\n",
      "Enzymes not in training set:\n",
      "Accuracy on test set: 0.7222222222222222, ROC-AUC score for test set: 0.746875\n",
      "A0A011QK89 1.0\n",
      "A0A087D1R1 0.8333333333333334\n",
      "R0EVG9 0.6666666666666666\n",
      "B1HZY7 0.8333333333333334\n",
      "C2K1F0 0.3333333333333333\n",
      "A4YVE0 0.6666666666666666\n"
     ]
    },
    {
     "data": {
      "image/png": "[encoded data removed]",
      "text/plain": [
       "<Figure size 432x288 with 1 Axes>"
      ]
     },
     "metadata": {
      "needs_background": "light"
     },
     "output_type": "display_data"
    },
    {
     "name": "stderr",
     "output_type": "stream",
     "text": [
      "C:\\Users\\alexk\\anaconda3\\envs\\Predicting_Km\\lib\\site-packages\\pandas\\core\\ops\\array_ops.py:56: FutureWarning: elementwise comparison failed; returning scalar instead, but in the future will perform elementwise comparison\n",
      "  result = libops.scalar_compare(x.ravel(), y, op)\n"
     ]
    },
    {
     "name": "stdout",
     "output_type": "stream",
     "text": [
      "Accuracy on test set: 0.8512544802867383, ROC-AUC score for test set: 0.9413269999990391\n",
      "All enzymes:\n",
      "Accuracy on test set: 0.753968253968254, ROC-AUC score for test set: 0.9182899064002024\n",
      "Enzymes not in training set:\n",
      "Accuracy on test set: 0.75, ROC-AUC score for test set: 0.771875\n",
      "A0A0U6K8E5 0.8333333333333334\n",
      "C9Y9E7 0.8333333333333334\n",
      "A4YVE0 0.8333333333333334\n",
      "E6SCX5 0.5\n",
      "B7N6P4 0.8333333333333334\n",
      "B8MKR3 0.6666666666666666\n"
     ]
    },
    {
     "data": {
      "image/png": "[encoded data removed]",
      "text/plain": [
       "<Figure size 432x288 with 1 Axes>"
      ]
     },
     "metadata": {
      "needs_background": "light"
     },
     "output_type": "display_data"
    },
    {
     "name": "stderr",
     "output_type": "stream",
     "text": [
      "C:\\Users\\alexk\\anaconda3\\envs\\Predicting_Km\\lib\\site-packages\\pandas\\core\\ops\\array_ops.py:56: FutureWarning: elementwise comparison failed; returning scalar instead, but in the future will perform elementwise comparison\n",
      "  result = libops.scalar_compare(x.ravel(), y, op)\n"
     ]
    },
    {
     "name": "stdout",
     "output_type": "stream",
     "text": [
      "Accuracy on test set: 0.8560648934163365, ROC-AUC score for test set: 0.944507639267217\n",
      "All enzymes:\n",
      "Accuracy on test set: 0.753968253968254, ROC-AUC score for test set: 0.9511763217809259\n",
      "Enzymes not in training set:\n",
      "Accuracy on test set: 0.5333333333333333, ROC-AUC score for test set: 0.6950000000000001\n",
      "Q5WIP4 0.5\n",
      "A0A087RXW1 0.6666666666666666\n",
      "A9QH69 0.16666666666666666\n",
      "B7RR92 0.8333333333333334\n",
      "W6W585 0.5\n"
     ]
    },
    {
     "data": {
      "image/png": "[encoded data removed]",
      "text/plain": [
       "<Figure size 432x288 with 1 Axes>"
      ]
     },
     "metadata": {
      "needs_background": "light"
     },
     "output_type": "display_data"
    },
    {
     "name": "stderr",
     "output_type": "stream",
     "text": [
      "C:\\Users\\alexk\\anaconda3\\envs\\Predicting_Km\\lib\\site-packages\\pandas\\core\\ops\\array_ops.py:56: FutureWarning: elementwise comparison failed; returning scalar instead, but in the future will perform elementwise comparison\n",
      "  result = libops.scalar_compare(x.ravel(), y, op)\n"
     ]
    },
    {
     "name": "stdout",
     "output_type": "stream",
     "text": [
      "Accuracy on test set: 0.8486134691567628, ROC-AUC score for test set: 0.94233353318671\n",
      "All enzymes:\n",
      "Accuracy on test set: 0.7619047619047619, ROC-AUC score for test set: 0.9425752592967366\n",
      "Enzymes not in training set:\n",
      "Accuracy on test set: 0.6333333333333333, ROC-AUC score for test set: 0.7453703703703703\n",
      "A0A077SBA9 0.5\n",
      "D4MUV9 0.6666666666666666\n",
      "C4VMW0 0.8333333333333334\n",
      "S2DJ52 0.8333333333333334\n",
      "D4N087 0.3333333333333333\n"
     ]
    },
    {
     "data": {
      "image/png": "[encoded data removed]",
      "text/plain": [
       "<Figure size 432x288 with 1 Axes>"
      ]
     },
     "metadata": {
      "needs_background": "light"
     },
     "output_type": "display_data"
    }
   ],
   "source": [
    "new_enzymes =  list(set(df_test_new[\"Uniprot ID\"]))\n",
    "random.seed(2)\n",
    "random.shuffle(new_enzymes)\n",
    "enzyme_folds = []\n",
    "\n",
    "#enzyme_folds = [new_enzymes[0:5], new_enzymes[5:10], new_enzymes[10:15], new_enzymes[15:]]\n",
    "enzyme_folds =[[\"A0A011QK89\", \"A0A087D1R1\", \"R0EVG9\",'B1HZY7', 'C2K1F0',\"A4YVE0\"],\n",
    "                [\"A0A0U6K8E5\", \"C9Y9E7\",\"A4YVE0\",\"E6SCX5\",\"B7N6P4\", 'B8MKR3'],\n",
    "                ['Q5WIP4', 'A0A087RXW1', \"A9QH69\", 'B7RR92' , 'W6W585'],\n",
    "                [\"A0A077SBA9\", \"D4MUV9\", \"C4VMW0\", \"S2DJ52\", \"D4N087\"]]\n",
    "\n",
    "for i in range(4):\n",
    "    test_enzymes = enzyme_folds[i]\n",
    "\n",
    "    df_train = pd.read_pickle(join(CURRENT_DIR, \"..\" ,\"data\",\n",
    "                                   \"splits\", \"df_train_with_EC1_1_3_15_with_ESM1b_ts_V2.pkl\"))\n",
    "    df_train = df_train.loc[df_train[\"ESM1b_ts\"] != \"\"]\n",
    "    df_train.reset_index(inplace = True, drop = True)\n",
    "\n",
    "\n",
    "    df_train = df_train.loc[~df_train[\"Uniprot ID\"].isin(test_enzymes)]\n",
    "    \n",
    "    \n",
    "    train_X, train_y =  create_input_and_output_data(df = df_train)\n",
    "    test_X, test_y =  create_input_and_output_data(df = df_test)\n",
    "    test_new_X, test_new_y =  create_input_and_output_data(df = df_test_new)\n",
    "    \n",
    "    \n",
    "    param = {'learning_rate': 0.18135911877193203,\n",
    "            'max_delta_step': 1.3717877690513562,\n",
    "            'max_depth': 13,\n",
    "            'min_child_weight': 1.5826257645467106,\n",
    "            'num_rounds': 274.67426335694415,\n",
    "            'reg_alpha': 0.3165440543883846,\n",
    "            'reg_lambda': 4.025376038590373,\n",
    "            'weight': 0.15401089500882937}\n",
    "    \n",
    "    param = {'learning_rate': 0.18296495168218582,\n",
    "         'max_delta_step': 3.3493438944723124,\n",
    "         'max_depth': 10,\n",
    "         'min_child_weight': 1.247649465698041,\n",
    "         'num_rounds': 396.29745010248996,\n",
    "         'reg_alpha': 1.5424137381080452,\n",
    "         'reg_lambda': 0.5505714465712437,\n",
    "         'weight': 0.10762555947440637}\n",
    "\n",
    "    num_round = param[\"num_rounds\"]\n",
    "    param[\"tree_method\"] = \"gpu_hist\"\n",
    "    param[\"sampling_method\"] = \"gradient_based\"\n",
    "    param['objective'] = 'binary:logistic'\n",
    "    weights = np.array([param[\"weight\"] if binding == 0 else 1.0 for binding in df_train[\"Binding\"]])\n",
    "    #weights = [weights[i]*5 if dtype ==\"engqvist\" else weights[i] for i, dtype in enumerate(df_train[\"type\"])]\n",
    "\n",
    "    del param[\"num_rounds\"]\n",
    "    del param[\"weight\"]\n",
    "    \n",
    "    dtrain = xgb.DMatrix(np.array(train_X), weight = weights, label = np.array(train_y),\n",
    "                feature_names= feature_names)\n",
    "    dtest = xgb.DMatrix(np.array(test_X), label = np.array(test_y),\n",
    "                        feature_names= feature_names)\n",
    "\n",
    "    bst = xgb.train(param,  dtrain, int(num_round), verbose_eval=1)\n",
    "    y_test_pred = np.round(bst.predict(dtest))\n",
    "    acc_test = np.mean(y_test_pred == np.array(test_y))\n",
    "    roc_auc = roc_auc_score(np.array(test_y), bst.predict(dtest))\n",
    "\n",
    "    print(\"Accuracy on test set: %s, ROC-AUC score for test set: %s\"  % (acc_test, roc_auc))\n",
    "    \n",
    "    dtest_new = xgb.DMatrix(np.array(test_new_X), label = np.array(test_new_y),\n",
    "                    feature_names= feature_names)\n",
    "\n",
    "    y_test_new_pred = np.round(bst.predict(dtest_new))\n",
    "    acc_test_new = np.mean(y_test_new_pred == np.array(test_new_y))\n",
    "    roc_auc_new = roc_auc_score(np.array(test_new_y), bst.predict(dtest_new))\n",
    "\n",
    "    print(\"All enzymes:\")\n",
    "    print(\"Accuracy on test set: %s, ROC-AUC score for test set: %s\"  % (acc_test_new, roc_auc_new))\n",
    "    \n",
    "    df_test_new_test = df_test_new.loc[df_test_new[\"Uniprot ID\"].isin(test_enzymes)]\n",
    "    test_new_X2, test_new_y2 =  create_input_and_output_data(df = df_test_new_test)\n",
    "    test_new_X2  = np.array(test_new_X2)\n",
    "    test_new_y2  = np.array(test_new_y2)\n",
    "\n",
    "    dtest_new = xgb.DMatrix(np.array(test_new_X2), label = np.array(test_new_y2),\n",
    "                        feature_names= feature_names)\n",
    "    y_test_new_pred = np.round(bst.predict(dtest_new))\n",
    "    acc_test_new = np.mean(y_test_new_pred == np.array(test_new_y2))\n",
    "    roc_auc_new = roc_auc_score(np.array(test_new_y2), bst.predict(dtest_new))\n",
    "\n",
    "    print(\"Enzymes not in training set:\")\n",
    "    print(\"Accuracy on test set: %s, ROC-AUC score for test set: %s\"  % (acc_test_new, roc_auc_new))\n",
    "    for i, enz in enumerate(test_enzymes):\n",
    "        acc = np.mean(y_test_new_pred[i*6: (i+1)*6] == np.array(test_new_y2)[i*6: (i+1)*6])\n",
    "        print(enz, acc)\n",
    "    plt.hist(bst.predict(dtest_new), bins = 20, rwidth=0.9)\n",
    "    plt.show()"
   ]
  },
  {
   "cell_type": "markdown",
   "metadata": {},
   "source": [
    "D4N087  A9QH69"
   ]
  },
  {
   "cell_type": "code",
   "execution_count": null,
   "metadata": {},
   "outputs": [],
   "source": []
  },
  {
   "cell_type": "code",
   "execution_count": null,
   "metadata": {},
   "outputs": [],
   "source": []
  },
  {
   "cell_type": "code",
   "execution_count": 9,
   "metadata": {},
   "outputs": [
    {
     "name": "stderr",
     "output_type": "stream",
     "text": [
      "C:\\Users\\alexk\\anaconda3\\envs\\Predicting_Km\\lib\\site-packages\\pandas\\core\\ops\\array_ops.py:56: FutureWarning: elementwise comparison failed; returning scalar instead, but in the future will perform elementwise comparison\n",
      "  result = libops.scalar_compare(x.ravel(), y, op)\n"
     ]
    },
    {
     "name": "stdout",
     "output_type": "stream",
     "text": [
      "Accuracy on test set: 0.8554989624599132, ROC-AUC score for test set: 0.9436973763479295\n",
      "All enzymes:\n",
      "Accuracy on test set: 0.7698412698412699, ROC-AUC score for test set: 0.928408803440425\n",
      "Enzymes not in training set:\n",
      "Accuracy on test set: 0.6944444444444444, ROC-AUC score for test set: 0.759375\n",
      "A0A011QK89 0.8333333333333334\n",
      "A0A087D1R1 0.8333333333333334\n",
      "R0EVG9 0.6666666666666666\n",
      "B1HZY7 0.8333333333333334\n",
      "C2K1F0 0.3333333333333333\n",
      "A4YVE0 0.6666666666666666\n"
     ]
    },
    {
     "data": {
      "image/png": "[encoded data removed]",
      "text/plain": [
       "<Figure size 432x288 with 1 Axes>"
      ]
     },
     "metadata": {
      "needs_background": "light"
     },
     "output_type": "display_data"
    },
    {
     "name": "stderr",
     "output_type": "stream",
     "text": [
      "C:\\Users\\alexk\\anaconda3\\envs\\Predicting_Km\\lib\\site-packages\\pandas\\core\\ops\\array_ops.py:56: FutureWarning: elementwise comparison failed; returning scalar instead, but in the future will perform elementwise comparison\n",
      "  result = libops.scalar_compare(x.ravel(), y, op)\n"
     ]
    },
    {
     "name": "stdout",
     "output_type": "stream",
     "text": [
      "Accuracy on test set: 0.8508771929824561, ROC-AUC score for test set: 0.9416089646089775\n",
      "All enzymes:\n",
      "Accuracy on test set: 0.7619047619047619, ROC-AUC score for test set: 0.9182899064002024\n",
      "Enzymes not in training set:\n",
      "Accuracy on test set: 0.6944444444444444, ROC-AUC score for test set: 0.75\n",
      "A0A0U6K8E5 0.8333333333333334\n",
      "C9Y9E7 0.8333333333333334\n",
      "A4YVE0 0.8333333333333334\n",
      "E6SCX5 0.5\n",
      "B7N6P4 0.8333333333333334\n",
      "B8MKR3 0.3333333333333333\n"
     ]
    },
    {
     "data": {
      "image/png": "[encoded data removed]",
      "text/plain": [
       "<Figure size 432x288 with 1 Axes>"
      ]
     },
     "metadata": {
      "needs_background": "light"
     },
     "output_type": "display_data"
    },
    {
     "name": "stderr",
     "output_type": "stream",
     "text": [
      "C:\\Users\\alexk\\anaconda3\\envs\\Predicting_Km\\lib\\site-packages\\pandas\\core\\ops\\array_ops.py:56: FutureWarning: elementwise comparison failed; returning scalar instead, but in the future will perform elementwise comparison\n",
      "  result = libops.scalar_compare(x.ravel(), y, op)\n"
     ]
    },
    {
     "name": "stdout",
     "output_type": "stream",
     "text": [
      "Accuracy on test set: 0.8507828711563856, ROC-AUC score for test set: 0.9428830499034523\n",
      "All enzymes:\n",
      "Accuracy on test set: 0.7301587301587301, ROC-AUC score for test set: 0.9448520111307868\n",
      "Enzymes not in training set:\n",
      "Accuracy on test set: 0.4, ROC-AUC score for test set: 0.45962732919254656\n",
      "Q5WIP4 0.5\n",
      "A0A087RXW1 0.16666666666666666\n",
      "D4N087 0.16666666666666666\n",
      "B7RR92 0.6666666666666666\n",
      "W6W585 0.5\n"
     ]
    },
    {
     "data": {
      "image/png": "[encoded data removed]",
      "text/plain": [
       "<Figure size 432x288 with 1 Axes>"
      ]
     },
     "metadata": {
      "needs_background": "light"
     },
     "output_type": "display_data"
    },
    {
     "name": "stderr",
     "output_type": "stream",
     "text": [
      "C:\\Users\\alexk\\anaconda3\\envs\\Predicting_Km\\lib\\site-packages\\pandas\\core\\ops\\array_ops.py:56: FutureWarning: elementwise comparison failed; returning scalar instead, but in the future will perform elementwise comparison\n",
      "  result = libops.scalar_compare(x.ravel(), y, op)\n"
     ]
    },
    {
     "name": "stdout",
     "output_type": "stream",
     "text": [
      "Accuracy on test set: 0.8508771929824561, ROC-AUC score for test set: 0.9426490669185332\n",
      "All enzymes:\n",
      "Accuracy on test set: 0.7857142857142857, ROC-AUC score for test set: 0.9367568934986087\n",
      "Enzymes not in training set:\n",
      "Accuracy on test set: 0.6666666666666666, ROC-AUC score for test set: 0.7822222222222222\n",
      "A0A077SBA9 0.6666666666666666\n",
      "D4MUV9 0.6666666666666666\n",
      "C4VMW0 0.5\n",
      "S2DJ52 0.8333333333333334\n",
      "A9QH69 0.6666666666666666\n"
     ]
    },
    {
     "data": {
      "image/png": "[encoded data removed]",
      "text/plain": [
       "<Figure size 432x288 with 1 Axes>"
      ]
     },
     "metadata": {
      "needs_background": "light"
     },
     "output_type": "display_data"
    }
   ],
   "source": [
    "new_enzymes =  list(set(df_test_new[\"Uniprot ID\"]))\n",
    "random.seed(2)\n",
    "random.shuffle(new_enzymes)\n",
    "enzyme_folds = []\n",
    "\n",
    "#enzyme_folds = [new_enzymes[0:5], new_enzymes[5:10], new_enzymes[10:15], new_enzymes[15:]]\n",
    "enzyme_folds =[[\"A0A011QK89\", \"A0A087D1R1\", \"R0EVG9\",'B1HZY7', 'C2K1F0',\"A4YVE0\"],\n",
    "                [\"A0A0U6K8E5\", \"C9Y9E7\",\"A4YVE0\",\"E6SCX5\",\"B7N6P4\", 'B8MKR3'],\n",
    "                ['Q5WIP4', 'A0A087RXW1', \"D4N087\", 'B7RR92' , 'W6W585'],\n",
    "                [\"A0A077SBA9\", \"D4MUV9\", \"C4VMW0\", \"S2DJ52\",\"A9QH69\"]]\n",
    "\n",
    "for i in range(4):\n",
    "    test_enzymes = enzyme_folds[i]\n",
    "\n",
    "    df_train = pd.read_pickle(join(CURRENT_DIR, \"..\" ,\"data\",\n",
    "                                   \"splits\", \"df_train_with_EC1_1_3_15_with_ESM1b_ts_V2.pkl\"))\n",
    "    df_train = df_train.loc[df_train[\"ESM1b_ts\"] != \"\"]\n",
    "    df_train.reset_index(inplace = True, drop = True)\n",
    "\n",
    "\n",
    "    df_train = df_train.loc[~df_train[\"Uniprot ID\"].isin(test_enzymes)]\n",
    "    \n",
    "    \n",
    "    train_X, train_y =  create_input_and_output_data(df = df_train)\n",
    "    test_X, test_y =  create_input_and_output_data(df = df_test)\n",
    "    test_new_X, test_new_y =  create_input_and_output_data(df = df_test_new)\n",
    "    \n",
    "    \n",
    "    param = {'learning_rate': 0.18135911877193203,\n",
    "            'max_delta_step': 1.3717877690513562,\n",
    "            'max_depth': 13,\n",
    "            'min_child_weight': 1.5826257645467106,\n",
    "            'num_rounds': 274.67426335694415,\n",
    "            'reg_alpha': 0.3165440543883846,\n",
    "            'reg_lambda': 4.025376038590373,\n",
    "            'weight': 0.15401089500882937}\n",
    "    \n",
    "    param = {'learning_rate': 0.18296495168218582,\n",
    "         'max_delta_step': 3.3493438944723124,\n",
    "         'max_depth': 10,\n",
    "         'min_child_weight': 1.247649465698041,\n",
    "         'num_rounds': 396.29745010248996,\n",
    "         'reg_alpha': 1.5424137381080452,\n",
    "         'reg_lambda': 0.5505714465712437,\n",
    "         'weight': 0.10762555947440637}\n",
    "\n",
    "    num_round = param[\"num_rounds\"]\n",
    "    param[\"tree_method\"] = \"gpu_hist\"\n",
    "    param[\"sampling_method\"] = \"gradient_based\"\n",
    "    param['objective'] = 'binary:logistic'\n",
    "    weights = np.array([param[\"weight\"] if binding == 0 else 1.0 for binding in df_train[\"Binding\"]])\n",
    "    #weights = [weights[i]*5 if dtype ==\"engqvist\" else weights[i] for i, dtype in enumerate(df_train[\"type\"])]\n",
    "\n",
    "    del param[\"num_rounds\"]\n",
    "    del param[\"weight\"]\n",
    "    \n",
    "    dtrain = xgb.DMatrix(np.array(train_X), weight = weights, label = np.array(train_y),\n",
    "                feature_names= feature_names)\n",
    "    dtest = xgb.DMatrix(np.array(test_X), label = np.array(test_y),\n",
    "                        feature_names= feature_names)\n",
    "\n",
    "    bst = xgb.train(param,  dtrain, int(num_round), verbose_eval=1)\n",
    "    y_test_pred = np.round(bst.predict(dtest))\n",
    "    acc_test = np.mean(y_test_pred == np.array(test_y))\n",
    "    roc_auc = roc_auc_score(np.array(test_y), bst.predict(dtest))\n",
    "\n",
    "    print(\"Accuracy on test set: %s, ROC-AUC score for test set: %s\"  % (acc_test, roc_auc))\n",
    "    \n",
    "    dtest_new = xgb.DMatrix(np.array(test_new_X), label = np.array(test_new_y),\n",
    "                    feature_names= feature_names)\n",
    "\n",
    "    y_test_new_pred = np.round(bst.predict(dtest_new))\n",
    "    acc_test_new = np.mean(y_test_new_pred == np.array(test_new_y))\n",
    "    roc_auc_new = roc_auc_score(np.array(test_new_y), bst.predict(dtest_new))\n",
    "\n",
    "    print(\"All enzymes:\")\n",
    "    print(\"Accuracy on test set: %s, ROC-AUC score for test set: %s\"  % (acc_test_new, roc_auc_new))\n",
    "    \n",
    "    df_test_new_test = df_test_new.loc[df_test_new[\"Uniprot ID\"].isin(test_enzymes)]\n",
    "    test_new_X2, test_new_y2 =  create_input_and_output_data(df = df_test_new_test)\n",
    "    test_new_X2  = np.array(test_new_X2)\n",
    "    test_new_y2  = np.array(test_new_y2)\n",
    "\n",
    "    dtest_new = xgb.DMatrix(np.array(test_new_X2), label = np.array(test_new_y2),\n",
    "                        feature_names= feature_names)\n",
    "    y_test_new_pred = np.round(bst.predict(dtest_new))\n",
    "    acc_test_new = np.mean(y_test_new_pred == np.array(test_new_y2))\n",
    "    roc_auc_new = roc_auc_score(np.array(test_new_y2), bst.predict(dtest_new))\n",
    "\n",
    "    print(\"Enzymes not in training set:\")\n",
    "    print(\"Accuracy on test set: %s, ROC-AUC score for test set: %s\"  % (acc_test_new, roc_auc_new))\n",
    "    for i, enz in enumerate(test_enzymes):\n",
    "        acc = np.mean(y_test_new_pred[i*6: (i+1)*6] == np.array(test_new_y2)[i*6: (i+1)*6])\n",
    "        print(enz, acc)\n",
    "    plt.hist(bst.predict(dtest_new), bins = 20, rwidth=0.9)\n",
    "    plt.show()"
   ]
  },
  {
   "cell_type": "code",
   "execution_count": 12,
   "metadata": {},
   "outputs": [
    {
     "name": "stderr",
     "output_type": "stream",
     "text": [
      "C:\\Users\\alexk\\anaconda3\\envs\\Predicting_Km\\lib\\site-packages\\pandas\\core\\ops\\array_ops.py:56: FutureWarning: elementwise comparison failed; returning scalar instead, but in the future will perform elementwise comparison\n",
      "  result = libops.scalar_compare(x.ravel(), y, op)\n"
     ]
    },
    {
     "ename": "KeyboardInterrupt",
     "evalue": "",
     "output_type": "error",
     "traceback": [
      "\u001b[1;31m---------------------------------------------------------------------------\u001b[0m",
      "\u001b[1;31mKeyboardInterrupt\u001b[0m                         Traceback (most recent call last)",
      "\u001b[1;32m<ipython-input-12-881ccb9afa79>\u001b[0m in \u001b[0;36m<module>\u001b[1;34m\u001b[0m\n\u001b[0;32m     48\u001b[0m                         feature_names= feature_names)\n\u001b[0;32m     49\u001b[0m \u001b[1;33m\u001b[0m\u001b[0m\n\u001b[1;32m---> 50\u001b[1;33m     \u001b[0mbst\u001b[0m \u001b[1;33m=\u001b[0m \u001b[0mxgb\u001b[0m\u001b[1;33m.\u001b[0m\u001b[0mtrain\u001b[0m\u001b[1;33m(\u001b[0m\u001b[0mparam\u001b[0m\u001b[1;33m,\u001b[0m  \u001b[0mdtrain\u001b[0m\u001b[1;33m,\u001b[0m \u001b[0mint\u001b[0m\u001b[1;33m(\u001b[0m\u001b[0mnum_round\u001b[0m\u001b[1;33m)\u001b[0m\u001b[1;33m,\u001b[0m \u001b[0mverbose_eval\u001b[0m\u001b[1;33m=\u001b[0m\u001b[1;36m1\u001b[0m\u001b[1;33m)\u001b[0m\u001b[1;33m\u001b[0m\u001b[1;33m\u001b[0m\u001b[0m\n\u001b[0m\u001b[0;32m     51\u001b[0m     \u001b[0my_test_pred\u001b[0m \u001b[1;33m=\u001b[0m \u001b[0mnp\u001b[0m\u001b[1;33m.\u001b[0m\u001b[0mround\u001b[0m\u001b[1;33m(\u001b[0m\u001b[0mbst\u001b[0m\u001b[1;33m.\u001b[0m\u001b[0mpredict\u001b[0m\u001b[1;33m(\u001b[0m\u001b[0mdtest\u001b[0m\u001b[1;33m)\u001b[0m\u001b[1;33m)\u001b[0m\u001b[1;33m\u001b[0m\u001b[1;33m\u001b[0m\u001b[0m\n\u001b[0;32m     52\u001b[0m     \u001b[0macc_test\u001b[0m \u001b[1;33m=\u001b[0m \u001b[0mnp\u001b[0m\u001b[1;33m.\u001b[0m\u001b[0mmean\u001b[0m\u001b[1;33m(\u001b[0m\u001b[0my_test_pred\u001b[0m \u001b[1;33m==\u001b[0m \u001b[0mnp\u001b[0m\u001b[1;33m.\u001b[0m\u001b[0marray\u001b[0m\u001b[1;33m(\u001b[0m\u001b[0mtest_y\u001b[0m\u001b[1;33m)\u001b[0m\u001b[1;33m)\u001b[0m\u001b[1;33m\u001b[0m\u001b[1;33m\u001b[0m\u001b[0m\n",
      "\u001b[1;32m~\\anaconda3\\envs\\Predicting_Km\\lib\\site-packages\\xgboost\\training.py\u001b[0m in \u001b[0;36mtrain\u001b[1;34m(params, dtrain, num_boost_round, evals, obj, feval, maximize, early_stopping_rounds, evals_result, verbose_eval, xgb_model, callbacks)\u001b[0m\n\u001b[0;32m    210\u001b[0m                            \u001b[0mevals\u001b[0m\u001b[1;33m=\u001b[0m\u001b[0mevals\u001b[0m\u001b[1;33m,\u001b[0m\u001b[1;33m\u001b[0m\u001b[1;33m\u001b[0m\u001b[0m\n\u001b[0;32m    211\u001b[0m                            \u001b[0mobj\u001b[0m\u001b[1;33m=\u001b[0m\u001b[0mobj\u001b[0m\u001b[1;33m,\u001b[0m \u001b[0mfeval\u001b[0m\u001b[1;33m=\u001b[0m\u001b[0mfeval\u001b[0m\u001b[1;33m,\u001b[0m\u001b[1;33m\u001b[0m\u001b[1;33m\u001b[0m\u001b[0m\n\u001b[1;32m--> 212\u001b[1;33m                            xgb_model=xgb_model, callbacks=callbacks)\n\u001b[0m\u001b[0;32m    213\u001b[0m \u001b[1;33m\u001b[0m\u001b[0m\n\u001b[0;32m    214\u001b[0m \u001b[1;33m\u001b[0m\u001b[0m\n",
      "\u001b[1;32m~\\anaconda3\\envs\\Predicting_Km\\lib\\site-packages\\xgboost\\training.py\u001b[0m in \u001b[0;36m_train_internal\u001b[1;34m(params, dtrain, num_boost_round, evals, obj, feval, xgb_model, callbacks)\u001b[0m\n\u001b[0;32m     73\u001b[0m         \u001b[1;31m# Skip the first update if it is a recovery step.\u001b[0m\u001b[1;33m\u001b[0m\u001b[1;33m\u001b[0m\u001b[1;33m\u001b[0m\u001b[0m\n\u001b[0;32m     74\u001b[0m         \u001b[1;32mif\u001b[0m \u001b[0mversion\u001b[0m \u001b[1;33m%\u001b[0m \u001b[1;36m2\u001b[0m \u001b[1;33m==\u001b[0m \u001b[1;36m0\u001b[0m\u001b[1;33m:\u001b[0m\u001b[1;33m\u001b[0m\u001b[1;33m\u001b[0m\u001b[0m\n\u001b[1;32m---> 75\u001b[1;33m             \u001b[0mbst\u001b[0m\u001b[1;33m.\u001b[0m\u001b[0mupdate\u001b[0m\u001b[1;33m(\u001b[0m\u001b[0mdtrain\u001b[0m\u001b[1;33m,\u001b[0m \u001b[0mi\u001b[0m\u001b[1;33m,\u001b[0m \u001b[0mobj\u001b[0m\u001b[1;33m)\u001b[0m\u001b[1;33m\u001b[0m\u001b[1;33m\u001b[0m\u001b[0m\n\u001b[0m\u001b[0;32m     76\u001b[0m             \u001b[0mbst\u001b[0m\u001b[1;33m.\u001b[0m\u001b[0msave_rabit_checkpoint\u001b[0m\u001b[1;33m(\u001b[0m\u001b[1;33m)\u001b[0m\u001b[1;33m\u001b[0m\u001b[1;33m\u001b[0m\u001b[0m\n\u001b[0;32m     77\u001b[0m             \u001b[0mversion\u001b[0m \u001b[1;33m+=\u001b[0m \u001b[1;36m1\u001b[0m\u001b[1;33m\u001b[0m\u001b[1;33m\u001b[0m\u001b[0m\n",
      "\u001b[1;32m~\\anaconda3\\envs\\Predicting_Km\\lib\\site-packages\\xgboost\\core.py\u001b[0m in \u001b[0;36mupdate\u001b[1;34m(self, dtrain, iteration, fobj)\u001b[0m\n\u001b[0;32m   1159\u001b[0m             _check_call(_LIB.XGBoosterUpdateOneIter(self.handle,\n\u001b[0;32m   1160\u001b[0m                                                     \u001b[0mctypes\u001b[0m\u001b[1;33m.\u001b[0m\u001b[0mc_int\u001b[0m\u001b[1;33m(\u001b[0m\u001b[0miteration\u001b[0m\u001b[1;33m)\u001b[0m\u001b[1;33m,\u001b[0m\u001b[1;33m\u001b[0m\u001b[1;33m\u001b[0m\u001b[0m\n\u001b[1;32m-> 1161\u001b[1;33m                                                     dtrain.handle))\n\u001b[0m\u001b[0;32m   1162\u001b[0m         \u001b[1;32melse\u001b[0m\u001b[1;33m:\u001b[0m\u001b[1;33m\u001b[0m\u001b[1;33m\u001b[0m\u001b[0m\n\u001b[0;32m   1163\u001b[0m             \u001b[0mpred\u001b[0m \u001b[1;33m=\u001b[0m \u001b[0mself\u001b[0m\u001b[1;33m.\u001b[0m\u001b[0mpredict\u001b[0m\u001b[1;33m(\u001b[0m\u001b[0mdtrain\u001b[0m\u001b[1;33m,\u001b[0m \u001b[0moutput_margin\u001b[0m\u001b[1;33m=\u001b[0m\u001b[1;32mTrue\u001b[0m\u001b[1;33m,\u001b[0m \u001b[0mtraining\u001b[0m\u001b[1;33m=\u001b[0m\u001b[1;32mTrue\u001b[0m\u001b[1;33m)\u001b[0m\u001b[1;33m\u001b[0m\u001b[1;33m\u001b[0m\u001b[0m\n",
      "\u001b[1;31mKeyboardInterrupt\u001b[0m: "
     ]
    }
   ],
   "source": [
    "new_enzymes =  list(set(df_test_new[\"Uniprot ID\"]))\n",
    "random.seed(2)\n",
    "random.shuffle(new_enzymes)\n",
    "enzyme_folds = []\n",
    "\n",
    "enzyme_folds = [new_enzymes[0:5], new_enzymes[5:10], new_enzymes[10:15], new_enzymes[15:]]\n",
    "\n",
    "\n",
    "for i in range(4):\n",
    "    test_enzymes = enzyme_folds[i]\n",
    "\n",
    "    df_train = pd.read_pickle(join(CURRENT_DIR, \"..\" ,\"data\",\n",
    "                                   \"splits\", \"df_train_with_EC1_1_3_15_with_ESM1b_ts.pkl\"))\n",
    "    df_train = df_train.loc[df_train[\"ESM1b_ts\"] != \"\"]\n",
    "    df_train.reset_index(inplace = True, drop = True)\n",
    "\n",
    "\n",
    "    df_train = df_train.loc[~df_train[\"Uniprot ID\"].isin(test_enzymes)]\n",
    "    \n",
    "    \n",
    "    train_X, train_y =  create_input_and_output_data(df = df_train)\n",
    "    test_X, test_y =  create_input_and_output_data(df = df_test)\n",
    "    test_new_X, test_new_y =  create_input_and_output_data(df = df_test_new)\n",
    "    \n",
    "    \n",
    "    param = {'learning_rate': 0.18135911877193203,\n",
    "            'max_delta_step': 1.3717877690513562,\n",
    "            'max_depth': 13,\n",
    "            'min_child_weight': 1.5826257645467106,\n",
    "            'num_rounds': 374.67426335694415,\n",
    "            'reg_alpha': 0.3165440543883846,\n",
    "            'reg_lambda': 4.025376038590373,\n",
    "            'weight': 0.10401089500882937}\n",
    "\n",
    "    num_round = param[\"num_rounds\"]\n",
    "    param[\"tree_method\"] = \"gpu_hist\"\n",
    "    param[\"sampling_method\"] = \"gradient_based\"\n",
    "    param['objective'] = 'binary:logistic'\n",
    "    weights = np.array([param[\"weight\"] if binding == 0 else 1.0 for binding in df_train[\"Binding\"]])\n",
    "    weights = [weights[i]*2 if dtype ==\"engqvist\" else weights[i] for i, dtype in enumerate(df_train[\"type\"])]\n",
    "\n",
    "    del param[\"num_rounds\"]\n",
    "    del param[\"weight\"]\n",
    "    \n",
    "    dtrain = xgb.DMatrix(np.array(train_X), weight = weights, label = np.array(train_y),\n",
    "                feature_names= feature_names)\n",
    "    dtest = xgb.DMatrix(np.array(test_X), label = np.array(test_y),\n",
    "                        feature_names= feature_names)\n",
    "\n",
    "    bst = xgb.train(param,  dtrain, int(num_round), verbose_eval=1)\n",
    "    y_test_pred = np.round(bst.predict(dtest))\n",
    "    acc_test = np.mean(y_test_pred == np.array(test_y))\n",
    "    roc_auc = roc_auc_score(np.array(test_y), bst.predict(dtest))\n",
    "\n",
    "    print(\"Accuracy on test set: %s, ROC-AUC score for test set: %s\"  % (acc_test, roc_auc))\n",
    "    \n",
    "    dtest_new = xgb.DMatrix(np.array(test_new_X), label = np.array(test_new_y),\n",
    "                    feature_names= feature_names)\n",
    "\n",
    "    y_test_new_pred = np.round(bst.predict(dtest_new))\n",
    "    acc_test_new = np.mean(y_test_new_pred == np.array(test_new_y))\n",
    "    roc_auc_new = roc_auc_score(np.array(test_new_y), bst.predict(dtest_new))\n",
    "\n",
    "    print(\"All enzymes:\")\n",
    "    print(\"Accuracy on test set: %s, ROC-AUC score for test set: %s\"  % (acc_test_new, roc_auc_new))\n",
    "    \n",
    "    df_test_new_test = df_test_new.loc[df_test_new[\"Uniprot ID\"].isin(test_enzymes)]\n",
    "    test_new_X2, test_new_y2 =  create_input_and_output_data(df = df_test_new_test)\n",
    "    test_new_X2  = np.array(test_new_X2)\n",
    "    test_new_y2  = np.array(test_new_y2)\n",
    "\n",
    "    dtest_new = xgb.DMatrix(np.array(test_new_X2), label = np.array(test_new_y2),\n",
    "                        feature_names= feature_names)\n",
    "    y_test_new_pred = np.round(bst.predict(dtest_new))\n",
    "    acc_test_new = np.mean(y_test_new_pred == np.array(test_new_y2))\n",
    "    roc_auc_new = roc_auc_score(np.array(test_new_y2), bst.predict(dtest_new))\n",
    "\n",
    "    print(\"Enzymes not in training set:\")\n",
    "    print(\"Accuracy on test set: %s, ROC-AUC score for test set: %s\"  % (acc_test_new, roc_auc_new))"
   ]
  },
  {
   "cell_type": "code",
   "execution_count": 9,
   "metadata": {},
   "outputs": [
    {
     "name": "stderr",
     "output_type": "stream",
     "text": [
      "C:\\Users\\alexk\\anaconda3\\envs\\Predicting_Km\\lib\\site-packages\\pandas\\core\\ops\\array_ops.py:56: FutureWarning: elementwise comparison failed; returning scalar instead, but in the future will perform elementwise comparison\n",
      "  result = libops.scalar_compare(x.ravel(), y, op)\n"
     ]
    },
    {
     "name": "stdout",
     "output_type": "stream",
     "text": [
      "Accuracy on test set: 0.8893785479533911, ROC-AUC score for test set: 0.9495510514634202\n",
      "All enzymes:\n",
      "Accuracy on test set: 0.7936507936507936, ROC-AUC score for test set: 0.9198077409562359\n",
      "Enzymes not in training set:\n",
      "Accuracy on test set: 0.5333333333333333, ROC-AUC score for test set: 0.5972850678733032\n"
     ]
    },
    {
     "name": "stderr",
     "output_type": "stream",
     "text": [
      "C:\\Users\\alexk\\anaconda3\\envs\\Predicting_Km\\lib\\site-packages\\pandas\\core\\ops\\array_ops.py:56: FutureWarning: elementwise comparison failed; returning scalar instead, but in the future will perform elementwise comparison\n",
      "  result = libops.scalar_compare(x.ravel(), y, op)\n"
     ]
    },
    {
     "name": "stdout",
     "output_type": "stream",
     "text": [
      "Accuracy on test set: 0.8858679414400956, ROC-AUC score for test set: 0.9496898492753683\n",
      "All enzymes:\n",
      "Accuracy on test set: 0.8333333333333334, ROC-AUC score for test set: 0.9635719706551986\n",
      "Enzymes not in training set:\n",
      "Accuracy on test set: 0.7, ROC-AUC score for test set: 0.8054298642533937\n"
     ]
    },
    {
     "name": "stderr",
     "output_type": "stream",
     "text": [
      "C:\\Users\\alexk\\anaconda3\\envs\\Predicting_Km\\lib\\site-packages\\pandas\\core\\ops\\array_ops.py:56: FutureWarning: elementwise comparison failed; returning scalar instead, but in the future will perform elementwise comparison\n",
      "  result = libops.scalar_compare(x.ravel(), y, op)\n"
     ]
    },
    {
     "name": "stdout",
     "output_type": "stream",
     "text": [
      "Accuracy on test set: 0.8877352853301465, ROC-AUC score for test set: 0.9496365671112905\n",
      "All enzymes:\n",
      "Accuracy on test set: 0.7619047619047619, ROC-AUC score for test set: 0.9448520111307868\n",
      "Enzymes not in training set:\n",
      "Accuracy on test set: 0.43333333333333335, ROC-AUC score for test set: 0.5789473684210527\n"
     ]
    },
    {
     "name": "stderr",
     "output_type": "stream",
     "text": [
      "C:\\Users\\alexk\\anaconda3\\envs\\Predicting_Km\\lib\\site-packages\\pandas\\core\\ops\\array_ops.py:56: FutureWarning: elementwise comparison failed; returning scalar instead, but in the future will perform elementwise comparison\n",
      "  result = libops.scalar_compare(x.ravel(), y, op)\n"
     ]
    },
    {
     "name": "stdout",
     "output_type": "stream",
     "text": [
      "Accuracy on test set: 0.8856438601732896, ROC-AUC score for test set: 0.950207063879672\n",
      "All enzymes:\n",
      "Accuracy on test set: 0.8174603174603174, ROC-AUC score for test set: 0.9408044523146977\n",
      "Enzymes not in training set:\n",
      "Accuracy on test set: 0.6666666666666666, ROC-AUC score for test set: 0.7716049382716049\n"
     ]
    }
   ],
   "source": [
    "new_enzymes =  list(set(df_test_new[\"Uniprot ID\"]))\n",
    "random.seed(1)\n",
    "random.shuffle(new_enzymes)\n",
    "enzyme_folds = []\n",
    "\n",
    "enzyme_folds = [new_enzymes[0:5], new_enzymes[5:10], new_enzymes[10:15], new_enzymes[15:]]\n",
    "\n",
    "\n",
    "for i in range(4):\n",
    "    test_enzymes = enzyme_folds[i]\n",
    "\n",
    "    df_train = pd.read_pickle(join(CURRENT_DIR, \"..\" ,\"data\",\n",
    "                                   \"splits\", \"df_train_with_EC1_1_3_15_with_ESM1b_ts.pkl\"))\n",
    "    df_train = df_train.loc[df_train[\"ESM1b_ts\"] != \"\"]\n",
    "    df_train.reset_index(inplace = True, drop = True)\n",
    "\n",
    "\n",
    "    df_train = df_train.loc[~df_train[\"Uniprot ID\"].isin(test_enzymes)]\n",
    "    \n",
    "    \n",
    "    train_X, train_y =  create_input_and_output_data(df = df_train)\n",
    "    test_X, test_y =  create_input_and_output_data(df = df_test)\n",
    "    test_new_X, test_new_y =  create_input_and_output_data(df = df_test_new)\n",
    "    \n",
    "    \n",
    "    param = {'learning_rate': 0.18135911877193203,\n",
    "            'max_delta_step': 1.3717877690513562,\n",
    "            'max_depth': 13,\n",
    "            'min_child_weight': 1.5826257645467106,\n",
    "            'num_rounds': 374.67426335694415,\n",
    "            'reg_alpha': 0.3165440543883846,\n",
    "            'reg_lambda': 4.025376038590373,\n",
    "            'weight': 0.10401089500882937}\n",
    "\n",
    "    num_round = param[\"num_rounds\"]\n",
    "    param[\"tree_method\"] = \"gpu_hist\"\n",
    "    param[\"sampling_method\"] = \"gradient_based\"\n",
    "    param['objective'] = 'binary:logistic'\n",
    "    weights = np.array([param[\"weight\"] if binding == 0 else 1.0 for binding in df_train[\"Binding\"]])\n",
    "    weights = [weights[i]*2 if dtype ==\"engqvist\" else weights[i] for i, dtype in enumerate(df_train[\"type\"])]\n",
    "\n",
    "    del param[\"num_rounds\"]\n",
    "    del param[\"weight\"]\n",
    "    \n",
    "    dtrain = xgb.DMatrix(np.array(train_X), weight = weights, label = np.array(train_y),\n",
    "                feature_names= feature_names)\n",
    "    dtest = xgb.DMatrix(np.array(test_X), label = np.array(test_y),\n",
    "                        feature_names= feature_names)\n",
    "\n",
    "    bst = xgb.train(param,  dtrain, int(num_round), verbose_eval=1)\n",
    "    y_test_pred = np.round(bst.predict(dtest))\n",
    "    acc_test = np.mean(y_test_pred == np.array(test_y))\n",
    "    roc_auc = roc_auc_score(np.array(test_y), bst.predict(dtest))\n",
    "\n",
    "    print(\"Accuracy on test set: %s, ROC-AUC score for test set: %s\"  % (acc_test, roc_auc))\n",
    "    \n",
    "    dtest_new = xgb.DMatrix(np.array(test_new_X), label = np.array(test_new_y),\n",
    "                    feature_names= feature_names)\n",
    "\n",
    "    y_test_new_pred = np.round(bst.predict(dtest_new))\n",
    "    acc_test_new = np.mean(y_test_new_pred == np.array(test_new_y))\n",
    "    roc_auc_new = roc_auc_score(np.array(test_new_y), bst.predict(dtest_new))\n",
    "\n",
    "    print(\"All enzymes:\")\n",
    "    print(\"Accuracy on test set: %s, ROC-AUC score for test set: %s\"  % (acc_test_new, roc_auc_new))\n",
    "    \n",
    "    df_test_new_test = df_test_new.loc[df_test_new[\"Uniprot ID\"].isin(test_enzymes)]\n",
    "    test_new_X2, test_new_y2 =  create_input_and_output_data(df = df_test_new_test)\n",
    "    test_new_X2  = np.array(test_new_X2)\n",
    "    test_new_y2  = np.array(test_new_y2)\n",
    "\n",
    "    dtest_new = xgb.DMatrix(np.array(test_new_X2), label = np.array(test_new_y2),\n",
    "                        feature_names= feature_names)\n",
    "    y_test_new_pred = np.round(bst.predict(dtest_new))\n",
    "    acc_test_new = np.mean(y_test_new_pred == np.array(test_new_y2))\n",
    "    roc_auc_new = roc_auc_score(np.array(test_new_y2), bst.predict(dtest_new))\n",
    "\n",
    "    print(\"Enzymes not in training set:\")\n",
    "    print(\"Accuracy on test set: %s, ROC-AUC score for test set: %s\"  % (acc_test_new, roc_auc_new))"
   ]
  },
  {
   "cell_type": "code",
   "execution_count": 10,
   "metadata": {},
   "outputs": [
    {
     "name": "stderr",
     "output_type": "stream",
     "text": [
      "C:\\Users\\alexk\\anaconda3\\envs\\Predicting_Km\\lib\\site-packages\\pandas\\core\\ops\\array_ops.py:56: FutureWarning: elementwise comparison failed; returning scalar instead, but in the future will perform elementwise comparison\n",
      "  result = libops.scalar_compare(x.ravel(), y, op)\n"
     ]
    },
    {
     "name": "stdout",
     "output_type": "stream",
     "text": [
      "Accuracy on test set: 0.8913205855990439, ROC-AUC score for test set: 0.9503801914287018\n",
      "All enzymes:\n",
      "Accuracy on test set: 0.9126984126984127, ROC-AUC score for test set: 0.9696433088793321\n",
      "Enzymes not in training set:\n",
      "Accuracy on test set: 0.7, ROC-AUC score for test set: 0.7285067873303167\n"
     ]
    },
    {
     "name": "stderr",
     "output_type": "stream",
     "text": [
      "C:\\Users\\alexk\\anaconda3\\envs\\Predicting_Km\\lib\\site-packages\\pandas\\core\\ops\\array_ops.py:56: FutureWarning: elementwise comparison failed; returning scalar instead, but in the future will perform elementwise comparison\n",
      "  result = libops.scalar_compare(x.ravel(), y, op)\n"
     ]
    },
    {
     "name": "stdout",
     "output_type": "stream",
     "text": [
      "Accuracy on test set: 0.8847475351060652, ROC-AUC score for test set: 0.9498160121359855\n",
      "All enzymes:\n",
      "Accuracy on test set: 0.8888888888888888, ROC-AUC score for test set: 0.97090817100936\n",
      "Enzymes not in training set:\n",
      "Accuracy on test set: 0.6666666666666666, ROC-AUC score for test set: 0.7692307692307692\n"
     ]
    },
    {
     "name": "stderr",
     "output_type": "stream",
     "text": [
      "C:\\Users\\alexk\\anaconda3\\envs\\Predicting_Km\\lib\\site-packages\\pandas\\core\\ops\\array_ops.py:56: FutureWarning: elementwise comparison failed; returning scalar instead, but in the future will perform elementwise comparison\n",
      "  result = libops.scalar_compare(x.ravel(), y, op)\n"
     ]
    },
    {
     "name": "stdout",
     "output_type": "stream",
     "text": [
      "Accuracy on test set: 0.8839259037944428, ROC-AUC score for test set: 0.9503219701472856\n",
      "All enzymes:\n",
      "Accuracy on test set: 0.9047619047619048, ROC-AUC score for test set: 0.9838097647356439\n",
      "Enzymes not in training set:\n",
      "Accuracy on test set: 0.6333333333333333, ROC-AUC score for test set: 0.736842105263158\n"
     ]
    },
    {
     "name": "stderr",
     "output_type": "stream",
     "text": [
      "C:\\Users\\alexk\\anaconda3\\envs\\Predicting_Km\\lib\\site-packages\\pandas\\core\\ops\\array_ops.py:56: FutureWarning: elementwise comparison failed; returning scalar instead, but in the future will perform elementwise comparison\n",
      "  result = libops.scalar_compare(x.ravel(), y, op)\n"
     ]
    },
    {
     "name": "stdout",
     "output_type": "stream",
     "text": [
      "Accuracy on test set: 0.8848222288616672, ROC-AUC score for test set: 0.9503126662285785\n",
      "All enzymes:\n",
      "Accuracy on test set: 0.8809523809523809, ROC-AUC score for test set: 0.9663546673412599\n",
      "Enzymes not in training set:\n",
      "Accuracy on test set: 0.6666666666666666, ROC-AUC score for test set: 0.8055555555555556\n"
     ]
    }
   ],
   "source": [
    "new_enzymes =  list(set(df_test_new[\"Uniprot ID\"]))\n",
    "random.seed(1)\n",
    "random.shuffle(new_enzymes)\n",
    "enzyme_folds = []\n",
    "\n",
    "enzyme_folds = [new_enzymes[0:5], new_enzymes[5:10], new_enzymes[10:15], new_enzymes[15:]]\n",
    "\n",
    "\n",
    "for i in range(4):\n",
    "    test_enzymes = enzyme_folds[i]\n",
    "\n",
    "    df_train = pd.read_pickle(join(CURRENT_DIR, \"..\" ,\"data\",\n",
    "                                   \"splits\", \"df_train_with_EC1_1_3_15_with_ESM1b_ts.pkl\"))\n",
    "    df_train = df_train.loc[df_train[\"ESM1b_ts\"] != \"\"]\n",
    "    df_train.reset_index(inplace = True, drop = True)\n",
    "\n",
    "\n",
    "    df_train = df_train.loc[~df_train[\"Uniprot ID\"].isin(test_enzymes)]\n",
    "    \n",
    "    \n",
    "    train_X, train_y =  create_input_and_output_data(df = df_train)\n",
    "    test_X, test_y =  create_input_and_output_data(df = df_test)\n",
    "    test_new_X, test_new_y =  create_input_and_output_data(df = df_test_new)\n",
    "    \n",
    "    \n",
    "    param = {'learning_rate': 0.18135911877193203,\n",
    "            'max_delta_step': 1.3717877690513562,\n",
    "            'max_depth': 13,\n",
    "            'min_child_weight': 1.5826257645467106,\n",
    "            'num_rounds': 374.67426335694415,\n",
    "            'reg_alpha': 0.3165440543883846,\n",
    "            'reg_lambda': 4.025376038590373,\n",
    "            'weight': 0.10401089500882937}\n",
    "\n",
    "    num_round = param[\"num_rounds\"]\n",
    "    param[\"tree_method\"] = \"gpu_hist\"\n",
    "    param[\"sampling_method\"] = \"gradient_based\"\n",
    "    param['objective'] = 'binary:logistic'\n",
    "    weights = np.array([param[\"weight\"] if binding == 0 else 1.0 for binding in df_train[\"Binding\"]])\n",
    "    weights = [weights[i]*10 if dtype ==\"engqvist\" else weights[i] for i, dtype in enumerate(df_train[\"type\"])]\n",
    "\n",
    "    del param[\"num_rounds\"]\n",
    "    del param[\"weight\"]\n",
    "    \n",
    "    dtrain = xgb.DMatrix(np.array(train_X), weight = weights, label = np.array(train_y),\n",
    "                feature_names= feature_names)\n",
    "    dtest = xgb.DMatrix(np.array(test_X), label = np.array(test_y),\n",
    "                        feature_names= feature_names)\n",
    "\n",
    "    bst = xgb.train(param,  dtrain, int(num_round), verbose_eval=1)\n",
    "    y_test_pred = np.round(bst.predict(dtest))\n",
    "    acc_test = np.mean(y_test_pred == np.array(test_y))\n",
    "    roc_auc = roc_auc_score(np.array(test_y), bst.predict(dtest))\n",
    "\n",
    "    print(\"Accuracy on test set: %s, ROC-AUC score for test set: %s\"  % (acc_test, roc_auc))\n",
    "    \n",
    "    dtest_new = xgb.DMatrix(np.array(test_new_X), label = np.array(test_new_y),\n",
    "                    feature_names= feature_names)\n",
    "\n",
    "    y_test_new_pred = np.round(bst.predict(dtest_new))\n",
    "    acc_test_new = np.mean(y_test_new_pred == np.array(test_new_y))\n",
    "    roc_auc_new = roc_auc_score(np.array(test_new_y), bst.predict(dtest_new))\n",
    "\n",
    "    print(\"All enzymes:\")\n",
    "    print(\"Accuracy on test set: %s, ROC-AUC score for test set: %s\"  % (acc_test_new, roc_auc_new))\n",
    "    \n",
    "    df_test_new_test = df_test_new.loc[df_test_new[\"Uniprot ID\"].isin(test_enzymes)]\n",
    "    test_new_X2, test_new_y2 =  create_input_and_output_data(df = df_test_new_test)\n",
    "    test_new_X2  = np.array(test_new_X2)\n",
    "    test_new_y2  = np.array(test_new_y2)\n",
    "\n",
    "    dtest_new = xgb.DMatrix(np.array(test_new_X2), label = np.array(test_new_y2),\n",
    "                        feature_names= feature_names)\n",
    "    y_test_new_pred = np.round(bst.predict(dtest_new))\n",
    "    acc_test_new = np.mean(y_test_new_pred == np.array(test_new_y2))\n",
    "    roc_auc_new = roc_auc_score(np.array(test_new_y2), bst.predict(dtest_new))\n",
    "\n",
    "    print(\"Enzymes not in training set:\")\n",
    "    print(\"Accuracy on test set: %s, ROC-AUC score for test set: %s\"  % (acc_test_new, roc_auc_new))"
   ]
  },
  {
   "cell_type": "code",
   "execution_count": 7,
   "metadata": {},
   "outputs": [
    {
     "data": {
      "image/png": "[encoded data removed]",
      "text/plain": [
       "<Figure size 576x576 with 1 Axes>"
      ]
     },
     "metadata": {
      "needs_background": "light"
     },
     "output_type": "display_data"
    }
   ],
   "source": [
    "import matplotlib.pyplot as plt\n",
    "import matplotlib as mpl\n",
    "from sklearn import metrics\n",
    "\n",
    "fig, ax = plt.subplots(figsize= (8,8))\n",
    "plt.rcParams.update({'font.size': 28})\n",
    "\n",
    "dtest_new = xgb.DMatrix(np.array(test_new_X), label = np.array(test_new_y),\n",
    "                    feature_names= feature_names)\n",
    "\n",
    "fpr_test, tpr_test, threshold = metrics.roc_curve(test_y, bst.predict(dtest))\n",
    "roc_auc_test = metrics.auc(fpr_test, tpr_test)\n",
    "\n",
    "fpr_test_new, tpr_test_new, threshold = metrics.roc_curve(np.array(test_new_y), bst.predict(dtest_new))\n",
    "roc_auc_test_new = metrics.auc(fpr_test_new, tpr_test_new)\n",
    "\n",
    "\n",
    "plt.plot(fpr_test, tpr_test, 'b', label = 'AUC (test set) = %0.2f' % roc_auc_test)\n",
    "plt.plot(fpr_test_new, tpr_test_new, 'r', label = 'AUC (new test set) = %0.2f' % roc_auc_test_new)\n",
    "\n",
    "\n",
    "plt.legend(loc = 'lower right', fontsize =20)\n",
    "plt.plot([0, 1], [0, 1],'--')\n",
    "eps = 0.01\n",
    "plt.xlim([0-eps, 1+eps])\n",
    "plt.ylim([0-eps, 1+eps])\n",
    "plt.ylabel('True Positive Rate')\n",
    "plt.xlabel('False Positive Rate')\n",
    "plt.show()"
   ]
  }
 ],
 "metadata": {
  "kernelspec": {
   "display_name": "Python 3",
   "language": "python",
   "name": "python3"
  },
  "language_info": {
   "codemirror_mode": {
    "name": "ipython",
    "version": 3
   },
   "file_extension": ".py",
   "mimetype": "text/x-python",
   "name": "python",
   "nbconvert_exporter": "python",
   "pygments_lexer": "ipython3",
   "version": "3.7.7"
  }
 },
 "nbformat": 4,
 "nbformat_minor": 4
}
