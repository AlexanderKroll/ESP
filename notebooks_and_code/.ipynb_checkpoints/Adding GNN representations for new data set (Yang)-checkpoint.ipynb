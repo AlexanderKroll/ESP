{
 "cells": [
  {
   "cell_type": "code",
   "execution_count": 1,
   "metadata": {},
   "outputs": [
    {
     "name": "stdout",
     "output_type": "stream",
     "text": [
      "cpu\n",
      "C:\\Users\\alexk\\projects\\SubFinder\\notebooks_and_code\n"
     ]
    }
   ],
   "source": [
    "import sys\n",
    "import os\n",
    "from os.path import join\n",
    "import numpy as np\n",
    "import pickle\n",
    "import random\n",
    "import pandas as pd\n",
    "import torch\n",
    "import torch.nn as nn\n",
    "from torch.utils.data import DataLoader\n",
    "from torch.utils.data import Dataset\n",
    "device = torch.device(\"cuda:0\" if torch.cuda.is_available() else \"cpu\")\n",
    "print(device)\n",
    "\n",
    "sys.path.append('.\\\\additional_code')\n",
    "from xgboost_training import *\n",
    "\n",
    "CURRENT_DIR = os.getcwd()\n",
    "print(CURRENT_DIR)"
   ]
  },
  {
   "cell_type": "markdown",
   "metadata": {},
   "source": [
    "## 1. Loading and preprocessing data:"
   ]
  },
  {
   "cell_type": "markdown",
   "metadata": {},
   "source": [
    "### (c) Get list with input combinations of Uniprot ID and metabolite ID"
   ]
  },
  {
   "cell_type": "markdown",
   "metadata": {},
   "source": [
    "## 2. Calculating input matrices for metabolites"
   ]
  },
  {
   "cell_type": "code",
   "execution_count": 2,
   "metadata": {},
   "outputs": [],
   "source": [
    "df_Mou  = pd.read_pickle(join(CURRENT_DIR, \"..\" ,\"data\", \"Min_data\", \"Min_df.pkl\"))\n",
    "df_Berry  = pd.read_pickle(join(CURRENT_DIR, \"..\" ,\"data\", \"Min_data\", \"Min_validation_Berry_df.pkl\"))\n",
    "df_Oat  = pd.read_pickle(join(CURRENT_DIR, \"..\" ,\"data\", \"Min_data\", \"Min_validation_Oat_df.pkl\"))\n",
    "\n",
    "df_test_new = pd.concat([df_Mou, df_Berry, df_Oat], ignore_index = True)\n",
    "df_test_new.head()\n",
    "\n",
    "df_test_new[\"metabolite\"] = [met.replace(\"?\", \"+\") for met in df_test_new[\"metabolite\"]]"
   ]
  },
  {
   "cell_type": "code",
   "execution_count": 8,
   "metadata": {},
   "outputs": [
    {
     "data": {
      "text/plain": [
       "(2847, 59, 53)"
      ]
     },
     "execution_count": 8,
     "metadata": {},
     "output_type": "execute_result"
    }
   ],
   "source": [
    "len(df_Mou), len(set(df_Mou[\"metabolite\"])), len(set(df_Mou[\"enzyme\"]))"
   ]
  },
  {
   "cell_type": "code",
   "execution_count": 9,
   "metadata": {},
   "outputs": [
    {
     "data": {
      "text/plain": [
       "(266, 38, 7)"
      ]
     },
     "execution_count": 9,
     "metadata": {},
     "output_type": "execute_result"
    }
   ],
   "source": [
    "len(df_Oat), len(set(df_Oat[\"metabolite\"])), len(set(df_Oat[\"enzyme\"]))"
   ]
  },
  {
   "cell_type": "code",
   "execution_count": 10,
   "metadata": {},
   "outputs": [
    {
     "data": {
      "text/plain": [
       "(380, 38, 10)"
      ]
     },
     "execution_count": 10,
     "metadata": {},
     "output_type": "execute_result"
    }
   ],
   "source": [
    "len(df_Berry), len(set(df_Berry[\"metabolite\"])), len(set(df_Berry[\"enzyme\"]))"
   ]
  },
  {
   "cell_type": "code",
   "execution_count": 3,
   "metadata": {},
   "outputs": [],
   "source": [
    "mol_files = list(df_test_new[\"metabolite\"])\n",
    "mol_names = list(df_test_new[\"metabolite\"])\n",
    "\n",
    "met_dict = {'Baicalein' : \"InChI=1S/C15H10O5/c16-9-6-11(8-4-2-1-3-5-8)20-12-7-10(17)14(18)15(19)13(9)12/h1-7,17-19H\",\n",
    " 'Umbelliferone' : \"InChI=1S/C9H6O3/c10-7-3-1-6-2-4-9(11)12-8(6)5-7/h1-5,10H\",\n",
    " '4-Methyl-umbelliferone' : \"InChI=1S/C10H8O3/c1-6-4-10(12)13-9-5-7(11)2-3-8(6)9/h2-5,11H,1H3\",\n",
    " 'Sinapic acid' : \"InChI=1S/C11H12O5/c1-15-8-5-7(3-4-10(12)13)6-9(16-2)11(8)14/h3-6,14H,1-2H3,(H,12,13)/b4-3+\",\n",
    " '4-hydroxyl-benzoic acid' : \"InChI=1S/C7H6O3/c8-6-3-1-5(2-4-6)7(9)10/h1-4,8H,(H,9,10)\",\n",
    "'a-cyano-4-hydroxyl-cinamic acid' : \"InChI=1S/C10H7NO3/c11-6-8(10(13)14)5-7-1-3-9(12)4-2-7/h1-5,12H,(H,13,14)/b8-5+\",\n",
    " '3,4-dichloroaniline' : \"InChI=1S/C6H5Cl2N/c7-5-2-1-4(9)3-6(5)8/h1-3H,9H2\",\n",
    " '3,4-dihydroxylbenzoic acid' : \"InChI=1S/C7H6O4/c8-5-2-1-4(7(10)11)3-6(5)9/h1-3,8-9H,(H,10,11)\",\n",
    "#2,5-dihydroxybenzoic acid\n",
    " ' 2,5-dihydroxylbenzoic acid' : \"InChI=1S/C7H6O4/c8-4-1-2-6(9)5(3-4)7(10)11/h1-3,8-9H,(H,10,11)\",\n",
    " ' D-glycerate' : \"InChI=1S/C3H6O4/c4-1-2(5)3(6)7/h2,4-5H,1H2,(H,6,7)/p-1/t2-/m1/s1\",\n",
    "#D-GlcNAc\n",
    " ' GlcNAc' : \"InChI=1S/C8H15NO6/c1-3(11)9-5-7(13)6(12)4(2-10)15-8(5)14/h4-8,10,12-14H,2H2,1H3,(H,9,11)\",\n",
    " ' Indole 3-acetate' : \"InChI=1S/C10H9NO2/c12-10(13)5-7-6-11-9-4-2-1-3-8(7)9/h1-4,6,11H,5H2,(H,12,13)/p-1\",\n",
    " ' Gibberellin A3' : \"InChI=1S/C19H22O6/c1-9-7-17-8-18(9,24)5-3-10(17)19-6-4-11(20)16(2,15(23)25-19)13(19)12(17)14(21)22/h4,6,10-13,20,24H,1,3,5,7-8H2,2H3,(H,21,22)/t10-,11+,12-,13-,16-,17+,18+,19-/m1/s1\",\n",
    " ' Gibberellin A4' : \"InChI=1S/C19H24O5/c1-9-7-18-8-10(9)3-4-11(18)19-6-5-12(20)17(2,16(23)24-19)14(19)13(18)15(21)22/h10-14,20H,1,3-8H2,2H3,(H,21,22)/t10-,11-,12+,13-,14-,17-,18+,19-/m1/s1\",\n",
    "#(+)-Jasmonic acid \n",
    "' (?)-Jasmonic acid' : \"InChI=1S/C12H18O3/c1-2-3-4-5-10-9(8-12(14)15)6-7-11(10)13/h3-4,9-10H,2,5-8H2,1H3,(H,14,15)/b4-3-/t9-,10-/m0/s1\",\n",
    " #(+)-cis,trans-Abscisic Acid\n",
    " ' (?)- cis, trans Abscisic acid' : \"InChI=1S/C15H20O4/c1-10(7-13(17)18)5-6-15(19)11(2)8-12(16)9-14(15,3)4/h5-8,19H,9H2,1-4H3,(H,17,18)/b6-5+,10-7+/t15-/m1/s1\",\n",
    " ' Kinetin' : \"InChI=1S/C10H9N5O/c1-2-7(16-3-1)4-11-9-8-10(13-5-12-8)15-6-14-9/h1-3,5-6H,4H2,(H2,11,12,13,14,15)\",\n",
    " 'Zeatin' : \"InChI=1S/C10H13N5O/c1-7(4-16)2-3-11-9-8-10(13-5-12-8)15-6-14-9/h2,5-6,16H,3-4H2,1H3,(H2,11,12,13,14,15)/b7-2+\",\n",
    " 'Luteolin' : \"InChI=1S/C15H10O6/c16-8-4-11(19)15-12(20)6-13(21-14(15)5-8)7-1-2-9(17)10(18)3-7/h1-6,16-19H\",\n",
    " 'Quercetin' : \"InChI=1S/C15H10O7/c16-7-4-10(19)12-11(5-7)22-15(14(21)13(12)20)6-1-2-8(17)9(18)3-6/h1-5,16-19,21H\",\n",
    " ' Fisetin' : \"InChI=1S/C15H10O6/c16-8-2-3-9-12(6-8)21-15(14(20)13(9)19)7-1-4-10(17)11(18)5-7/h1-6,16-18,20H\",\n",
    " ' Kaempferol' : \"InChI=1S/C15H10O6/c16-8-3-1-7(2-4-8)15-14(20)13(19)12-10(18)5-9(17)6-11(12)21-15/h1-6,16-18,20H\",\n",
    " 'Cinnamic acid' : \"InChI=1S/C9H8O2/c10-9(11)7-6-8-4-2-1-3-5-8/h1-7H,(H,10,11)/b7-6+\",\n",
    " '4-hydroxy cinnamic acid' : \"InChI=1S/C9H8O3/c10-8-4-1-7(2-5-8)3-6-9(11)12/h1-6,10H,(H,11,12)/b6-3+\",\n",
    " '3,4-dihyroxy cinnamic acid' : \"InChI=1S/C9H8O4/c10-7-3-1-6(5-8(7)11)2-4-9(12)13/h1-5,10-11H,(H,12,13)/b4-2+\",\n",
    " '4-hydroxy 3-methoxy cinnamic acid' : \"InChI=1S/C10H10O4/c11-6-8-5-7(1-3-9(8)12)2-4-10(13)14/h1-5,11-12H,6H2,(H,13,14)/b4-2+\",\n",
    " '2-hydroxy cinnamic acid' : \"InChI=1S/C9H8O3/c10-8-4-2-1-3-7(8)5-6-9(11)12/h1-6,10H,(H,11,12)\",\n",
    " '3-hydroxy cinnamic acid' : \"InChI=1S/C9H8O3/c10-8-3-1-2-7(6-8)4-5-9(11)12/h1-6,10H,(H,11,12)/b5-4+\",\n",
    " '7-hydroxy 6-methoxy coumarin (Scopoletin)' : \"InChI=1S/C10H8O4/c1-13-9-4-6-2-3-10(12)14-8(6)5-7(9)11/h2-5,11H,1H3\",\n",
    " '6,7-dihydroxy coumarin (Esculetin)' : \"InChI=1S/C9H6O4/c10-6-3-5-1-2-9(12)13-8(5)4-7(6)11/h1-4,10-11H\",\n",
    " 'Threonine' : \"InChI=1S/C4H9NO3/c1-2(6)3(5)4(7)8/h2-3,6H,5H2,1H3,(H,7,8)/t2-,3+/m1/s1\",\n",
    " 'Glucose' : \"InChI=1S/C6H12O6/c7-1-2-3(8)4(9)5(10)6(11)12-2/h2-11H,1H2/t2-,3-,4+,5-,6?/m1/s1\",\n",
    " 'Dihydrojasmonic acid' : \"InChI=1S/C12H20O3/c1-2-3-4-5-10-9(8-12(14)15)6-7-11(10)13/h9-10H,2-8H2,1H3,(H,14,15)\",\n",
    " 'Ser-Phe' : \"InChI=1S/C12H16N2O4/c13-9(7-15)11(16)14-10(12(17)18)6-8-4-2-1-3-5-8/h1-5,9-10,15H,6-7,13H2,(H,14,16)(H,17,18)/t9-,10-/m0/s1\",\n",
    " 'Ser-Leu' : \"InChI=1S/C9H18N2O4/c1-5(2)3-7(9(14)15)11-8(13)6(10)4-12/h5-7,12H,3-4,10H2,1-2H3,(H,11,13)(H,14,15)/t6-,7-/m0/s1\",\n",
    " 'BocCysThrOMe' : \"InChI=1S/C13H24N2O6S/c1-7(16)9(11(18)20-5)15-10(17)8(6-22)14-12(19)21-13(2,3)4/h7-9,16,22H,6H2,1-5H3,(H,14,19)(H,15,17)\",\n",
    " '1-Thio-S-cyanomethyl-N-acetyl-D-glucosamine' : \"InChI=1S/C10H20N2O5S/c1-5(14)12-7-9(16)8(15)6(4-13)17-10(7)18-3-2-11/h6-10,13,15-16H,2-4,11H2,1H3,(H,12,14)\",\n",
    " 'MUGlcNAc' : \"InChI=1S/C17H18O8/c1-7-5-12(19)24-11-6-9(3-4-10(7)11)23-17-13(8(2)18)14(20)15(21)16(22)25-17/h3-6,13-17,20-22H,1-2H3\",\n",
    " 'Trans-dihydroquercetin (DHQ)' : \"InChI=1S/C15H12O7/c16-7-4-10(19)12-11(5-7)22-15(14(21)13(12)20)6-1-2-8(17)9(18)3-6/h1-5,14-19,21H/t14-,15+/m0/s1\",\n",
    " '7-hydroxycoumerin 3-carboxylic acid' : \"InChI=1S/C10H6O5/c11-6-2-1-5-3-7(9(12)13)10(14)15-8(5)4-6/h1-4,11H,(H,12,13)\",\n",
    " '7-hydroxycoumerin 4-acetic acid' : \"InChI=1S/C11H8O5/c12-7-1-2-8-6(3-10(13)14)4-11(15)16-9(8)5-7/h1-2,4-5,12H,3H2,(H,13,14)\",\n",
    " 'Chloramphenicol' : \"InChI=1S/C11H12Cl2N2O5/c12-10(13)11(18)14-8(5-16)9(17)6-1-3-7(4-2-6)15(19)20/h1-4,8-10,16-17H,5H2,(H,14,18)/t8-,9-/m1/s1\",\n",
    " '?-GlcOBn' : \"InChI=1S/C13H18O6/c14-6-9-10(15)11(16)12(17)13(19-9)18-7-8-4-2-1-3-5-8/h1-5,9-17H,6-7H2\",\n",
    " 'a-ManOBn' : \"InChI=1S/C13H18O6/c14-6-9-10(15)11(16)12(17)13(19-9)18-7-8-4-2-1-3-5-8/h1-5,9-17H,6-7H2\",\n",
    " 'a-ManOPh' : \"InChI=1S/C12H16O6/c13-6-8-9(14)10(15)11(16)12(18-8)17-7-4-2-1-3-5-7/h1-5,8-16H,6H2\",\n",
    " 'a-ManOCH2Bn' : \"InChI=1S/C14H20O6/c15-8-10-11(16)12(17)13(18)14(20-10)19-7-6-9-4-2-1-3-5-9/h1-5,10-18H,6-8H2\",\n",
    " 'a-ManOPMP' : \"InChI=1S/C13H18O7/c14-5-7-1-3-8(4-2-7)19-13-12(18)11(17)10(16)9(6-15)20-13/h1-4,9-18H,5-6H2\",\n",
    " 'a-ManOBn(pNO2)' : \"InChI=1S/C13H19NO8/c15-5-9-10(16)11(17)12(18)13(22-9)21-6-7-1-3-8(4-2-7)14(19)20/h1-4,9-13,15-20H,5-6H2\",\n",
    " 'a-ManOPhF5' : \"InChI=1S/C12H11F5O6/c13-3-4(14)6(16)11(7(17)5(3)15)23-12-10(21)9(20)8(19)2(1-18)22-12/h2,8-10,12,18-21H,1H2\",\n",
    " 'a-ManOBnF5' : \"InChI=1S/C13H13F5O6/c14-5-3(6(15)8(17)9(18)7(5)16)2-23-13-12(22)11(21)10(20)4(1-19)24-13/h4,10-13,19-22H,1-2H2\",\n",
    " 'ManSTol' : \"InChI=1S/C13H18O5S/c1-7-2-4-8(5-3-7)19-13-12(17)11(16)10(15)9(6-14)18-13/h2-5,9-17H,6H2,1H3\",\n",
    " 'Catechin' : \"InChI=1S/C15H14O6/c16-8-4-11(18)9-6-13(20)15(21-14(9)5-8)7-1-2-10(17)12(19)3-7/h1-5,13,15-20H,6H2/t13-,15+/m0/s1\",\n",
    " 'Genistein' : \"InChI=1S/C15H10O5/c16-9-3-1-8(2-4-9)11-7-20-13-6-10(17)5-12(18)14(13)15(11)19/h1-7,16-18H\",\n",
    " 'N6-Benzyladenine' : \"InChI=1S/C12H11N5/c1-2-4-9(5-3-1)6-13-11-10-12(15-7-14-10)17-8-16-11/h1-5,7-8H,6H2,(H2,13,14,15,16,17)\",\n",
    " 'Trans-Zentin-Glucose' : \"InChI=1S/C16H23N5O6/c1-8(2-3-17-14-10-15(19-6-18-10)21-7-20-14)5-26-16-13(25)12(24)11(23)9(4-22)27-16/h2,6-7,9,11-13,16,22-25H,3-5H2,1H3,(H2,17,18,19,20,21)/b8-2+\",\n",
    " 'DihydroZeatin' : \"InChI=1S/C10H15N5O/c1-7(4-16)2-3-11-9-8-10(13-5-12-8)15-6-14-9/h5-7,16H,2-4H2,1H3,(H2,11,12,13,14,15)\",\n",
    " 'Olomoucine' : \"InChI=1S/C15H18N6O/c1-21-10-18-12-13(17-9-11-5-3-2-4-6-11)19-15(16-7-8-22)20-14(12)21/h2-6,10,22H,7-9H2,1H3,(H2,16,17,19,20)\",\n",
    " 'N6-isopentenyladenine' : \"InChI=1S/C10H13N5/c1-7(2)3-4-11-9-8-10(13-5-12-8)15-6-14-9/h3,5-6H,4H2,1-2H3,(H2,11,12,13,14,15)\",\n",
    " 'Spectinomycin' : \"InChI=1S/C14H24N2O7/c1-5-4-6(17)14(20)13(21-5)22-12-10(19)7(15-2)9(18)8(16-3)11(12)23-14/h5,7-13,15-16,18-20H,4H2,1-3H3/t5-,7-,8+,9+,10+,11-,12-,13+,14+/m1/s1\",\n",
    " \"oleanodmycin\" : \"InChI=1S/C35H61NO12/c1-16-14-35(15-43-35)32(40)19(4)27(37)18(3)22(7)46-33(41)21(6)31(47-26-13-25(42-11)28(38)23(8)45-26)20(5)30(16)48-34-29(39)24(36(9)10)12-17(2)44-34/h16-31,34,37-39H,12-15H2,1-11H3/t16-,17+,18-,19+,20+,21+,22+,23-,24-,25-,26-,27-,28-,29+,30-,31-,34-,35+/m0/s1\",\n",
    " \"novobiocin\" : \"InChI=1S/C31H36N2O11/c1-14(2)7-8-16-13-17(9-11-19(16)34)27(37)33-21-22(35)18-10-12-20(15(3)24(18)42-28(21)38)41-29-23(36)25(43-30(32)39)26(40-6)31(4,5)44-29/h7,9-13,23,25-26,29,34-36H,8H2,1-6H3,(H2,32,39)(H,33,37)/t23-,25+,26-,29-/m1/s1\",\n",
    " \"spectinomycin\" : \"InChI=1S/C14H24N2O7/c1-5-4-6(17)14(20)13(21-5)22-12-10(19)7(15-2)9(18)8(16-3)11(12)23-14/h5,7-13,15-16,18-20H,4H2,1-3H3/t5-,7-,8+,9+,10+,11-,12-,13+,14+/m1/s1\",\n",
    " \"CHAPS\" : \"InChI=1S/C32H58N2O7S/c1-21(8-11-29(38)33-14-6-15-34(4,5)16-7-17-42(39,40)41)24-9-10-25-30-26(20-28(37)32(24,25)3)31(2)13-12-23(35)18-22(31)19-27(30)36/h21-28,30,35-37H,6-20H2,1-5H3,(H-,33,38,39,40,41)/t21-,22+,23-,24-,25+,26+,27-,28+,30+,31+,32-/m1/s1\",\n",
    " \"solanidine\" : \"InChI=1S/C27H43NO/c1-16-5-8-23-17(2)25-24(28(23)15-16)14-22-20-7-6-18-13-19(29)9-11-26(18,3)21(20)10-12-27(22,25)4/h6,16-17,19-25,29H,5,7-15H2,1-4H3/t16-,17+,19-,20+,21-,22-,23+,24-,25-,26-,27-/m0/s1\",\n",
    " \"solasodine\" : \"InChI=1S/C27H43NO2/c1-16-7-12-27(28-15-16)17(2)24-23(30-27)14-22-20-6-5-18-13-19(29)8-10-25(18,3)21(20)9-11-26(22,24)4/h5,16-17,19-24,28-29H,6-15H2,1-4H3/t16-,17+,19+,20-,21+,22+,23+,24+,25+,26+,27-/m1/s1\",\n",
    " \"b-sitosterol\"  : \"InChI=1S/C29H50O/c1-7-21(19(2)3)9-8-20(4)25-12-13-26-24-11-10-22-18-23(30)14-16-28(22,5)27(24)15-17-29(25,26)6/h10,19-21,23-27,30H,7-9,11-18H2,1-6H3/t20-,21-,23+,24+,25-,26+,27+,28+,29-/m1/s1\" }"
   ]
  },
  {
   "cell_type": "code",
   "execution_count": 4,
   "metadata": {},
   "outputs": [],
   "source": [
    "def calculate_atom_and_bond_feature_vectors(mol_files, filenames):\n",
    "    #check if feature vectors have already been calculated:\n",
    "    try:\n",
    "        os.mkdir(join(CURRENT_DIR, \"..\" ,\"data\", \"substrate_data\", \"mol_feature_vectors\"))\n",
    "    except FileExistsError:\n",
    "        None\n",
    "    \n",
    "    #existing feature vector files:\n",
    "    feature_files = os.listdir(join(CURRENT_DIR, \"..\" ,\"data\", \"substrate_data\", \"mol_feature_vectors\"))\n",
    "    for i, mol_file in enumerate(mol_files):\n",
    "        mol_name = filenames[i]\n",
    "        #check if feature vectors were already calculated:\n",
    "        if not mol_file + \"-atoms.txt\" in  feature_files:\n",
    "            #load mol_file\n",
    "            Inchi = met_dict[mol_file.replace(\"+\", \"?\")]\n",
    "            mol = Chem.inchi.MolFromInchi(Inchi)\n",
    "\n",
    "            if not mol is None:\n",
    "                calculate_atom_feature_vector_for_mol_file(mol, mol_file, mol_name)\n",
    "                calculate_bond_feature_vector_for_mol_file(mol, mol_file, mol_name)\n",
    "                \n",
    "def calculate_atom_feature_vector_for_mol_file(mol, mol_file, mol_name):\n",
    "    #get number of atoms N\n",
    "    N = mol.GetNumAtoms()\n",
    "    atom_list = []\n",
    "    for i in range(N):\n",
    "        features = []\n",
    "        atom = mol.GetAtomWithIdx(i)\n",
    "        features.append(atom.GetAtomicNum()), features.append(atom.GetDegree()), features.append(atom.GetFormalCharge())\n",
    "        features.append(str(atom.GetHybridization())), features.append(atom.GetIsAromatic()), features.append(atom.GetMass())\n",
    "        features.append(atom.GetTotalNumHs()), features.append(str(atom.GetChiralTag()))\n",
    "        atom_list.append(features)\n",
    "    with open(join(CURRENT_DIR, \"..\" ,\"data\", \"substrate_data\", \"mol_feature_vectors\", mol_name + \"-atoms.txt\"), \"wb\") as fp:   #Pickling\n",
    "        pickle.dump(atom_list, fp)\n",
    "            \n",
    "def calculate_bond_feature_vector_for_mol_file(mol, mol_file, mol_name):\n",
    "    N = mol.GetNumBonds()\n",
    "    bond_list = []\n",
    "    for i in range(N):\n",
    "        features = []\n",
    "        bond = mol.GetBondWithIdx(i)\n",
    "        features.append(bond.GetBeginAtomIdx()), features.append(bond.GetEndAtomIdx()),\n",
    "        features.append(str(bond.GetBondType())), features.append(bond.GetIsAromatic()),\n",
    "        features.append(bond.IsInRing()), features.append(str(bond.GetStereo()))\n",
    "        bond_list.append(features)\n",
    "    with open(join(CURRENT_DIR, \"..\" ,\"data\", \"substrate_data\", \"mol_feature_vectors\", mol_name + \"-bonds.txt\"), \"wb\") as fp:   #Pickling\n",
    "        pickle.dump(bond_list, fp)"
   ]
  },
  {
   "cell_type": "code",
   "execution_count": 5,
   "metadata": {},
   "outputs": [],
   "source": [
    "calculate_atom_and_bond_feature_vectors(mol_files = mol_files, filenames = mol_names)"
   ]
  },
  {
   "cell_type": "code",
   "execution_count": 6,
   "metadata": {
    "scrolled": true
   },
   "outputs": [],
   "source": [
    "for mol_ID in mol_names:\n",
    "    calculate_and_save_input_matrixes(molecule_ID = mol_ID)"
   ]
  },
  {
   "cell_type": "markdown",
   "metadata": {},
   "source": [
    "### 4. Creating GNN representations for traing and test set:"
   ]
  },
  {
   "cell_type": "markdown",
   "metadata": {},
   "source": [
    "Load trained model:"
   ]
  },
  {
   "cell_type": "code",
   "execution_count": 3,
   "metadata": {},
   "outputs": [
    {
     "data": {
      "text/plain": [
       "GNN(\n",
       "  (BN1): BatchNorm2d(50, eps=1e-05, momentum=0.1, affine=True, track_running_stats=True)\n",
       "  (BN2): BatchNorm2d(50, eps=1e-05, momentum=0.1, affine=True, track_running_stats=True)\n",
       "  (BN3): BatchNorm1d(100, eps=1e-05, momentum=0.1, affine=True, track_running_stats=True)\n",
       "  (linear1): Linear(in_features=100, out_features=32, bias=True)\n",
       "  (linear2): Linear(in_features=32, out_features=1, bias=True)\n",
       "  (drop_layer): Dropout(p=0.2, inplace=False)\n",
       ")"
      ]
     },
     "execution_count": 3,
     "metadata": {},
     "output_type": "execute_result"
    }
   ],
   "source": [
    "model = GNN(D= 50, N = 70, F1 = 32 , F2 = 10, F = F1+F2).to(device)\n",
    "model.load_state_dict(torch.load(join(CURRENT_DIR, \"..\" ,\"data\", \"substrate_data\", \"GNN\",\"Pytorch_GNN\")))\n",
    "model.eval()"
   ]
  },
  {
   "cell_type": "markdown",
   "metadata": {},
   "source": [
    "Loading data:"
   ]
  },
  {
   "cell_type": "code",
   "execution_count": 4,
   "metadata": {},
   "outputs": [],
   "source": [
    "df_Mou  = pd.read_pickle(join(CURRENT_DIR, \"..\" ,\"data\", \"Min_data\", \"Min_df.pkl\"))\n",
    "df_Berry  = pd.read_pickle(join(CURRENT_DIR, \"..\" ,\"data\", \"Min_data\", \"Min_validation_Berry_df.pkl\"))\n",
    "df_Oat  = pd.read_pickle(join(CURRENT_DIR, \"..\" ,\"data\", \"Min_data\", \"Min_validation_Oat_df.pkl\"))\n",
    "\n",
    "\n",
    "df_Mou[\"molecule ID\"] = [met.replace(\"?\", \"+\") for met in df_Mou[\"metabolite\"]]\n",
    "df_Berry[\"molecule ID\"] = [met.replace(\"?\", \"+\") for met in df_Berry[\"metabolite\"]]\n",
    "df_Oat[\"molecule ID\"] = [met.replace(\"?\", \"+\") for met in df_Oat[\"metabolite\"]]"
   ]
  },
  {
   "cell_type": "markdown",
   "metadata": {},
   "source": [
    "Creating a DataFrame with all metabolites in our dataset:"
   ]
  },
  {
   "cell_type": "code",
   "execution_count": 5,
   "metadata": {},
   "outputs": [
    {
     "data": {
      "text/html": [
       "<div>\n",
       "<style scoped>\n",
       "    .dataframe tbody tr th:only-of-type {\n",
       "        vertical-align: middle;\n",
       "    }\n",
       "\n",
       "    .dataframe tbody tr th {\n",
       "        vertical-align: top;\n",
       "    }\n",
       "\n",
       "    .dataframe thead th {\n",
       "        text-align: right;\n",
       "    }\n",
       "</style>\n",
       "<table border=\"1\" class=\"dataframe\">\n",
       "  <thead>\n",
       "    <tr style=\"text-align: right;\">\n",
       "      <th></th>\n",
       "      <th>molecule ID</th>\n",
       "      <th>uid</th>\n",
       "    </tr>\n",
       "  </thead>\n",
       "  <tbody>\n",
       "    <tr>\n",
       "      <th>0</th>\n",
       "      <td>(+)- cis, trans Abscisic acid</td>\n",
       "      <td>P9WIQ3</td>\n",
       "    </tr>\n",
       "    <tr>\n",
       "      <th>1</th>\n",
       "      <td>(+)-Jasmonic acid</td>\n",
       "      <td>P9WIQ3</td>\n",
       "    </tr>\n",
       "    <tr>\n",
       "      <th>2</th>\n",
       "      <td>2,5-dihydroxylbenzoic acid</td>\n",
       "      <td>P9WIQ3</td>\n",
       "    </tr>\n",
       "    <tr>\n",
       "      <th>3</th>\n",
       "      <td>D-glycerate</td>\n",
       "      <td>P9WIQ3</td>\n",
       "    </tr>\n",
       "    <tr>\n",
       "      <th>4</th>\n",
       "      <td>Fisetin</td>\n",
       "      <td>P9WIQ3</td>\n",
       "    </tr>\n",
       "    <tr>\n",
       "      <th>...</th>\n",
       "      <td>...</td>\n",
       "      <td>...</td>\n",
       "    </tr>\n",
       "    <tr>\n",
       "      <th>1438</th>\n",
       "      <td>Trans-Zentin-Glucose</td>\n",
       "      <td>P9WIQ3</td>\n",
       "    </tr>\n",
       "    <tr>\n",
       "      <th>1439</th>\n",
       "      <td>Umbelliferone</td>\n",
       "      <td>P9WIQ3</td>\n",
       "    </tr>\n",
       "    <tr>\n",
       "      <th>1440</th>\n",
       "      <td>Valeronitrile</td>\n",
       "      <td>P9WIQ3</td>\n",
       "    </tr>\n",
       "    <tr>\n",
       "      <th>1441</th>\n",
       "      <td>Zeatin</td>\n",
       "      <td>P9WIQ3</td>\n",
       "    </tr>\n",
       "    <tr>\n",
       "      <th>1442</th>\n",
       "      <td>⍺-Methylbenzyl cyanide</td>\n",
       "      <td>P9WIQ3</td>\n",
       "    </tr>\n",
       "  </tbody>\n",
       "</table>\n",
       "<p>1443 rows × 2 columns</p>\n",
       "</div>"
      ],
      "text/plain": [
       "                         molecule ID     uid\n",
       "0      (+)- cis, trans Abscisic acid  P9WIQ3\n",
       "1                  (+)-Jasmonic acid  P9WIQ3\n",
       "2         2,5-dihydroxylbenzoic acid  P9WIQ3\n",
       "3                        D-glycerate  P9WIQ3\n",
       "4                            Fisetin  P9WIQ3\n",
       "...                              ...     ...\n",
       "1438            Trans-Zentin-Glucose  P9WIQ3\n",
       "1439                   Umbelliferone  P9WIQ3\n",
       "1440                   Valeronitrile  P9WIQ3\n",
       "1441                          Zeatin  P9WIQ3\n",
       "1442          ⍺-Methylbenzyl cyanide  P9WIQ3\n",
       "\n",
       "[1443 rows x 2 columns]"
      ]
     },
     "execution_count": 5,
     "metadata": {},
     "output_type": "execute_result"
    }
   ],
   "source": [
    "valid_mols = os.listdir(join(CURRENT_DIR, \"..\" ,\"data\", \"substrate_data\", \"GNN_input_matrices\"))\n",
    "valid_mols = [mol.split(\"_A.npy\")[0] for mol in valid_mols]\n",
    "valid_mols = [mol for mol in valid_mols if not \".\" in mol]\n",
    "df_mols = pd.DataFrame(data = {\"molecule ID\" : valid_mols})\n",
    "\n",
    "#To create the substrate rep, the UID does not matter. Therfore, setting it random:\n",
    "df_mols[\"uid\"] = \"P9WIQ3\"\n",
    "df_mols"
   ]
  },
  {
   "cell_type": "code",
   "execution_count": 6,
   "metadata": {},
   "outputs": [],
   "source": [
    "input_data_folder = join(CURRENT_DIR, \"..\" ,\"data\", \"substrate_data\", \"GNN_input_matrices\")\n",
    "\n",
    "def get_representation_input(cid_list):\n",
    "    XE = ();\n",
    "    X = ();\n",
    "    A = ();\n",
    "    UniRep = ();\n",
    "    extras = ();\n",
    "    # Generate data\n",
    "    for i in range(len(cid_list)):\n",
    "        cid  = cid_list[i]\n",
    "\n",
    "        X = X + (np.load(join(input_data_folder, cid + '_X.npy')), );\n",
    "        XE = XE + (np.load(join(input_data_folder, cid + '_XE.npy')), );\n",
    "        A = A + (np.load(join(input_data_folder, cid + '_A.npy')), );\n",
    "    return(XE, X, A)\n",
    "\n",
    "\n",
    "def get_substrate_representations(df):\n",
    "    df[\"substrate_rep\"] = \"\"\n",
    "    \n",
    "    i = 0\n",
    "    n = len(df)\n",
    "\n",
    "    while i*64 <= n:\n",
    "        cid_all = list(df[\"molecule ID\"])\n",
    "\n",
    "        if (i+1)*64  <= n:\n",
    "            XE, X, A= get_representation_input(cid_all[i*64:(i+1)*64])\n",
    "            \n",
    "            XE = torch.tensor(np.array(XE), dtype = torch.float32).to(device)\n",
    "            X = torch.tensor(np.array(X), dtype = torch.float32).to(device)\n",
    "            A = torch.tensor(np.array(A), dtype = torch.float32).to(device)\n",
    "            representations = model.get_GNN_rep(XE, X,A).cpu().detach().numpy()\n",
    "            df[\"substrate_rep\"][i*64:(i+1)*64] = list(representations[:, :D])\n",
    "        else:\n",
    "            print(i)\n",
    "            XE, X, A= get_representation_input(cid_all[i*64:(i+1)*64])\n",
    "            XE = torch.tensor(np.array(XE), dtype = torch.float32).to(device)\n",
    "            X = torch.tensor(np.array(X), dtype = torch.float32).to(device)\n",
    "            A = torch.tensor(np.array(A), dtype = torch.float32).to(device)\n",
    "            representations = model.get_GNN_rep(XE, X,A).cpu().detach().numpy()\n",
    "            df[\"substrate_rep\"][-len(representations):] = list(representations[:, :D])\n",
    "        i += 1\n",
    "    return(df)"
   ]
  },
  {
   "cell_type": "code",
   "execution_count": 7,
   "metadata": {},
   "outputs": [
    {
     "name": "stdout",
     "output_type": "stream",
     "text": [
      "22\n"
     ]
    },
    {
     "data": {
      "text/html": [
       "<div>\n",
       "<style scoped>\n",
       "    .dataframe tbody tr th:only-of-type {\n",
       "        vertical-align: middle;\n",
       "    }\n",
       "\n",
       "    .dataframe tbody tr th {\n",
       "        vertical-align: top;\n",
       "    }\n",
       "\n",
       "    .dataframe thead th {\n",
       "        text-align: right;\n",
       "    }\n",
       "</style>\n",
       "<table border=\"1\" class=\"dataframe\">\n",
       "  <thead>\n",
       "    <tr style=\"text-align: right;\">\n",
       "      <th></th>\n",
       "      <th>molecule ID</th>\n",
       "      <th>uid</th>\n",
       "      <th>substrate_rep</th>\n",
       "    </tr>\n",
       "  </thead>\n",
       "  <tbody>\n",
       "    <tr>\n",
       "      <th>0</th>\n",
       "      <td>(+)- cis, trans Abscisic acid</td>\n",
       "      <td>P9WIQ3</td>\n",
       "      <td>[263.28204, 101.09926, 44.73753, 97.21757, 73....</td>\n",
       "    </tr>\n",
       "    <tr>\n",
       "      <th>1</th>\n",
       "      <td>(+)-Jasmonic acid</td>\n",
       "      <td>P9WIQ3</td>\n",
       "      <td>[275.29468, 53.96031, 32.44248, 183.91042, 390...</td>\n",
       "    </tr>\n",
       "    <tr>\n",
       "      <th>2</th>\n",
       "      <td>2,5-dihydroxylbenzoic acid</td>\n",
       "      <td>P9WIQ3</td>\n",
       "      <td>[319.7119, 0.0, 0.0, 0.0, 0.0, 171.47157, 0.0,...</td>\n",
       "    </tr>\n",
       "    <tr>\n",
       "      <th>3</th>\n",
       "      <td>D-glycerate</td>\n",
       "      <td>P9WIQ3</td>\n",
       "      <td>[67.22981, 23.192509, 0.0, 34.899544, 15.00455...</td>\n",
       "    </tr>\n",
       "    <tr>\n",
       "      <th>4</th>\n",
       "      <td>Fisetin</td>\n",
       "      <td>P9WIQ3</td>\n",
       "      <td>[1040.2584, 0.0, 0.0, 0.0, 0.0, 365.02298, 0.0...</td>\n",
       "    </tr>\n",
       "    <tr>\n",
       "      <th>...</th>\n",
       "      <td>...</td>\n",
       "      <td>...</td>\n",
       "      <td>...</td>\n",
       "    </tr>\n",
       "    <tr>\n",
       "      <th>1438</th>\n",
       "      <td>Trans-Zentin-Glucose</td>\n",
       "      <td>P9WIQ3</td>\n",
       "      <td>[758.35345, 58.56499, 0.0, 33.78201, 165.84697...</td>\n",
       "    </tr>\n",
       "    <tr>\n",
       "      <th>1439</th>\n",
       "      <td>Umbelliferone</td>\n",
       "      <td>P9WIQ3</td>\n",
       "      <td>[603.0928, 0.0, 0.0, 0.0, 0.0, 385.28824, 0.0,...</td>\n",
       "    </tr>\n",
       "    <tr>\n",
       "      <th>1440</th>\n",
       "      <td>Valeronitrile</td>\n",
       "      <td>P9WIQ3</td>\n",
       "      <td>[31.178925, 19.753098, 59.99971, 51.572536, 92...</td>\n",
       "    </tr>\n",
       "    <tr>\n",
       "      <th>1441</th>\n",
       "      <td>Zeatin</td>\n",
       "      <td>P9WIQ3</td>\n",
       "      <td>[445.40707, 41.34903, 0.0, 26.694038, 66.09759...</td>\n",
       "    </tr>\n",
       "    <tr>\n",
       "      <th>1442</th>\n",
       "      <td>⍺-Methylbenzyl cyanide</td>\n",
       "      <td>P9WIQ3</td>\n",
       "      <td>[375.67047, 1.3433169, 0.0, 0.0, 1.5744141, 26...</td>\n",
       "    </tr>\n",
       "  </tbody>\n",
       "</table>\n",
       "<p>1443 rows × 3 columns</p>\n",
       "</div>"
      ],
      "text/plain": [
       "                         molecule ID     uid  \\\n",
       "0      (+)- cis, trans Abscisic acid  P9WIQ3   \n",
       "1                  (+)-Jasmonic acid  P9WIQ3   \n",
       "2         2,5-dihydroxylbenzoic acid  P9WIQ3   \n",
       "3                        D-glycerate  P9WIQ3   \n",
       "4                            Fisetin  P9WIQ3   \n",
       "...                              ...     ...   \n",
       "1438            Trans-Zentin-Glucose  P9WIQ3   \n",
       "1439                   Umbelliferone  P9WIQ3   \n",
       "1440                   Valeronitrile  P9WIQ3   \n",
       "1441                          Zeatin  P9WIQ3   \n",
       "1442          ⍺-Methylbenzyl cyanide  P9WIQ3   \n",
       "\n",
       "                                          substrate_rep  \n",
       "0     [263.28204, 101.09926, 44.73753, 97.21757, 73....  \n",
       "1     [275.29468, 53.96031, 32.44248, 183.91042, 390...  \n",
       "2     [319.7119, 0.0, 0.0, 0.0, 0.0, 171.47157, 0.0,...  \n",
       "3     [67.22981, 23.192509, 0.0, 34.899544, 15.00455...  \n",
       "4     [1040.2584, 0.0, 0.0, 0.0, 0.0, 365.02298, 0.0...  \n",
       "...                                                 ...  \n",
       "1438  [758.35345, 58.56499, 0.0, 33.78201, 165.84697...  \n",
       "1439  [603.0928, 0.0, 0.0, 0.0, 0.0, 385.28824, 0.0,...  \n",
       "1440  [31.178925, 19.753098, 59.99971, 51.572536, 92...  \n",
       "1441  [445.40707, 41.34903, 0.0, 26.694038, 66.09759...  \n",
       "1442  [375.67047, 1.3433169, 0.0, 0.0, 1.5744141, 26...  \n",
       "\n",
       "[1443 rows x 3 columns]"
      ]
     },
     "execution_count": 7,
     "metadata": {},
     "output_type": "execute_result"
    }
   ],
   "source": [
    "df_mols = get_substrate_representations(df = df_mols)\n",
    "df_mols"
   ]
  },
  {
   "cell_type": "code",
   "execution_count": 8,
   "metadata": {},
   "outputs": [
    {
     "name": "stderr",
     "output_type": "stream",
     "text": [
      "C:\\Users\\alexk\\AppData\\Local\\Temp/ipykernel_3844/2270454355.py:4: SettingWithCopyWarning: \n",
      "A value is trying to be set on a copy of a slice from a DataFrame\n",
      "\n",
      "See the caveats in the documentation: https://pandas.pydata.org/pandas-docs/stable/user_guide/indexing.html#returning-a-view-versus-a-copy\n",
      "  df_Mou[\"GNN rep\"][ind] = list(df_mols[\"substrate_rep\"].loc[df_mols[\"molecule ID\"] == df_Mou[\"molecule ID\"][ind].replace(\":\", \"_\")])[0]\n"
     ]
    }
   ],
   "source": [
    "df_Mou[\"GNN rep\"] = \"\"\n",
    "for ind in df_Mou.index:\n",
    "    try:\n",
    "        df_Mou[\"GNN rep\"][ind] = list(df_mols[\"substrate_rep\"].loc[df_mols[\"molecule ID\"] == df_Mou[\"molecule ID\"][ind].replace(\":\", \"_\")])[0]\n",
    "    except IndexError:\n",
    "        pass"
   ]
  },
  {
   "cell_type": "code",
   "execution_count": 9,
   "metadata": {},
   "outputs": [],
   "source": [
    "df_Berry[\"GNN rep\"] = \"\"\n",
    "for ind in df_Berry.index:\n",
    "    try:\n",
    "        df_Berry[\"GNN rep\"][ind] = list(df_mols[\"substrate_rep\"].loc[df_mols[\"molecule ID\"] == df_Berry[\"molecule ID\"][ind].replace(\":\", \"_\")])[0]\n",
    "    except IndexError:\n",
    "        pass"
   ]
  },
  {
   "cell_type": "code",
   "execution_count": 10,
   "metadata": {},
   "outputs": [],
   "source": [
    "df_Oat[\"GNN rep\"] = \"\"\n",
    "for ind in df_Oat.index:\n",
    "    try:\n",
    "        df_Oat[\"GNN rep\"][ind] = list(df_mols[\"substrate_rep\"].loc[df_mols[\"molecule ID\"] == df_Oat[\"molecule ID\"][ind]])[0]\n",
    "    except IndexError:\n",
    "        pass"
   ]
  },
  {
   "cell_type": "code",
   "execution_count": 12,
   "metadata": {},
   "outputs": [],
   "source": [
    "df_Mou.to_pickle(join(CURRENT_DIR, \"..\" ,\"data\", \"Min_data\", \"Min_df_GNN.pkl\"), protocol = 4)\n",
    "df_Berry.to_pickle(join(CURRENT_DIR, \"..\" ,\"data\", \"Min_data\", \"Min_validation_Berry_df_GNN.pkl\"), protocol = 4)\n",
    "df_Oat.to_pickle(join(CURRENT_DIR, \"..\" ,\"data\", \"Min_data\", \"Min_validation_Oat_df_GNN.pkl\"), protocol = 4)"
   ]
  },
  {
   "cell_type": "code",
   "execution_count": null,
   "metadata": {},
   "outputs": [],
   "source": []
  }
 ],
 "metadata": {
  "kernelspec": {
   "display_name": "Python 3",
   "language": "python",
   "name": "python3"
  },
  "language_info": {
   "codemirror_mode": {
    "name": "ipython",
    "version": 3
   },
   "file_extension": ".py",
   "mimetype": "text/x-python",
   "name": "python",
   "nbconvert_exporter": "python",
   "pygments_lexer": "ipython3",
   "version": "3.7.7"
  }
 },
 "nbformat": 4,
 "nbformat_minor": 4
}
