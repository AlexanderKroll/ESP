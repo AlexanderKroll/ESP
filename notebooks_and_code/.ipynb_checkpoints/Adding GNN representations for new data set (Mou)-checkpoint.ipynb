{
 "cells": [
  {
   "cell_type": "code",
   "execution_count": 1,
   "metadata": {},
   "outputs": [
    {
     "name": "stdout",
     "output_type": "stream",
     "text": [
      "cuda:0\n",
      "C:\\Users\\alexk\\projects\\SubFinder\\notebooks_and_code\n"
     ]
    }
   ],
   "source": [
    "import sys\n",
    "import os\n",
    "from os.path import join\n",
    "import numpy as np\n",
    "import pickle\n",
    "import random\n",
    "import pandas as pd\n",
    "import torch\n",
    "import torch.nn as nn\n",
    "from torch.utils.data import DataLoader\n",
    "from torch.utils.data import Dataset\n",
    "device = torch.device(\"cuda:0\" if torch.cuda.is_available() else \"cpu\")\n",
    "print(device)\n",
    "\n",
    "sys.path.append('.\\\\additional_code')\n",
    "from xgboost_training import *\n",
    "\n",
    "CURRENT_DIR = os.getcwd()\n",
    "print(CURRENT_DIR)"
   ]
  },
  {
   "cell_type": "markdown",
   "metadata": {},
   "source": [
    "## 1. Loading and preprocessing data:"
   ]
  },
  {
   "cell_type": "markdown",
   "metadata": {},
   "source": [
    "### (c) Get list with input combinations of Uniprot ID and metabolite ID"
   ]
  },
  {
   "cell_type": "markdown",
   "metadata": {},
   "source": [
    "## 2. Calculating input matrices for metabolites"
   ]
  },
  {
   "cell_type": "code",
   "execution_count": 2,
   "metadata": {
    "scrolled": true
   },
   "outputs": [
    {
     "data": {
      "text/html": [
       "<div>\n",
       "<style scoped>\n",
       "    .dataframe tbody tr th:only-of-type {\n",
       "        vertical-align: middle;\n",
       "    }\n",
       "\n",
       "    .dataframe tbody tr th {\n",
       "        vertical-align: top;\n",
       "    }\n",
       "\n",
       "    .dataframe thead th {\n",
       "        text-align: right;\n",
       "    }\n",
       "</style>\n",
       "<table border=\"1\" class=\"dataframe\">\n",
       "  <thead>\n",
       "    <tr style=\"text-align: right;\">\n",
       "      <th></th>\n",
       "      <th>enzyme</th>\n",
       "      <th>metabolite</th>\n",
       "      <th>activity</th>\n",
       "      <th>ECFP</th>\n",
       "      <th>Sequence</th>\n",
       "      <th>ESM1b_ts</th>\n",
       "    </tr>\n",
       "  </thead>\n",
       "  <tbody>\n",
       "    <tr>\n",
       "      <th>0</th>\n",
       "      <td>1a1</td>\n",
       "      <td>4-Aminobenzonitrile</td>\n",
       "      <td>0.716</td>\n",
       "      <td>0000000000000000000000000000000000100000000000...</td>\n",
       "      <td>TIVKAAAVQISPVLYSREGTVERVVKKIRELGEKGVQFATFPETVI...</td>\n",
       "      <td>[0.9186029, -1.0484099, -0.13906932, 0.1101291...</td>\n",
       "    </tr>\n",
       "    <tr>\n",
       "      <th>1</th>\n",
       "      <td>1a1</td>\n",
       "      <td>4-Nitrophenylacetonitrile</td>\n",
       "      <td>0.000</td>\n",
       "      <td>0000000000001000000000000000000000000000000000...</td>\n",
       "      <td>TIVKAAAVQISPVLYSREGTVERVVKKIRELGEKGVQFATFPETVI...</td>\n",
       "      <td>[0.9186029, -1.0484099, -0.13906932, 0.1101291...</td>\n",
       "    </tr>\n",
       "    <tr>\n",
       "      <th>2</th>\n",
       "      <td>1a1</td>\n",
       "      <td>4-(Dimethylamino)benzonitrile</td>\n",
       "      <td>4.363</td>\n",
       "      <td>0000000000000000000000000000000001100000000000...</td>\n",
       "      <td>TIVKAAAVQISPVLYSREGTVERVVKKIRELGEKGVQFATFPETVI...</td>\n",
       "      <td>[0.9186029, -1.0484099, -0.13906932, 0.1101291...</td>\n",
       "    </tr>\n",
       "    <tr>\n",
       "      <th>3</th>\n",
       "      <td>1a1</td>\n",
       "      <td>4-Chlorobenzonitrile</td>\n",
       "      <td>3.998</td>\n",
       "      <td>0000000000000000000000000000000000100000000000...</td>\n",
       "      <td>TIVKAAAVQISPVLYSREGTVERVVKKIRELGEKGVQFATFPETVI...</td>\n",
       "      <td>[0.9186029, -1.0484099, -0.13906932, 0.1101291...</td>\n",
       "    </tr>\n",
       "    <tr>\n",
       "      <th>4</th>\n",
       "      <td>1a1</td>\n",
       "      <td>2,6-Dichlorobenzonitrile</td>\n",
       "      <td>0.000</td>\n",
       "      <td>0000000000000001000000000000000000000000000000...</td>\n",
       "      <td>TIVKAAAVQISPVLYSREGTVERVVKKIRELGEKGVQFATFPETVI...</td>\n",
       "      <td>[0.9186029, -1.0484099, -0.13906932, 0.1101291...</td>\n",
       "    </tr>\n",
       "    <tr>\n",
       "      <th>...</th>\n",
       "      <td>...</td>\n",
       "      <td>...</td>\n",
       "      <td>...</td>\n",
       "      <td>...</td>\n",
       "      <td>...</td>\n",
       "      <td>...</td>\n",
       "    </tr>\n",
       "    <tr>\n",
       "      <th>235</th>\n",
       "      <td>pmi28</td>\n",
       "      <td>Propionitrile</td>\n",
       "      <td>1.054</td>\n",
       "      <td>0000000000000000000000000000000001000000000000...</td>\n",
       "      <td>MKIVKAAAVQISPVLYNREATVEKVVQKILELGQQGVQFATFPETV...</td>\n",
       "      <td>[0.85646003, -1.1750039, -0.1453441, 0.1105357...</td>\n",
       "    </tr>\n",
       "    <tr>\n",
       "      <th>236</th>\n",
       "      <td>pmi28</td>\n",
       "      <td>Benzoylacetonitrile</td>\n",
       "      <td>2.902</td>\n",
       "      <td>0000000000000000000000000000000000000000000000...</td>\n",
       "      <td>MKIVKAAAVQISPVLYNREATVEKVVQKILELGQQGVQFATFPETV...</td>\n",
       "      <td>[0.85646003, -1.1750039, -0.1453441, 0.1105357...</td>\n",
       "    </tr>\n",
       "    <tr>\n",
       "      <th>237</th>\n",
       "      <td>pmi28</td>\n",
       "      <td>Mandelonitrile</td>\n",
       "      <td>0.000</td>\n",
       "      <td>0100000000000000000000000000000000000000000000...</td>\n",
       "      <td>MKIVKAAAVQISPVLYNREATVEKVVQKILELGQQGVQFATFPETV...</td>\n",
       "      <td>[0.85646003, -1.1750039, -0.1453441, 0.1105357...</td>\n",
       "    </tr>\n",
       "    <tr>\n",
       "      <th>238</th>\n",
       "      <td>pmi28</td>\n",
       "      <td>Benzonitrile</td>\n",
       "      <td>4.580</td>\n",
       "      <td>0000000000000000000000000000000000100000000000...</td>\n",
       "      <td>MKIVKAAAVQISPVLYNREATVEKVVQKILELGQQGVQFATFPETV...</td>\n",
       "      <td>[0.85646003, -1.1750039, -0.1453441, 0.1105357...</td>\n",
       "    </tr>\n",
       "    <tr>\n",
       "      <th>239</th>\n",
       "      <td>pmi28</td>\n",
       "      <td>Acrylonitrile</td>\n",
       "      <td>0.845</td>\n",
       "      <td>0000000000000000000000000000000000000000000000...</td>\n",
       "      <td>MKIVKAAAVQISPVLYNREATVEKVVQKILELGQQGVQFATFPETV...</td>\n",
       "      <td>[0.85646003, -1.1750039, -0.1453441, 0.1105357...</td>\n",
       "    </tr>\n",
       "  </tbody>\n",
       "</table>\n",
       "<p>240 rows × 6 columns</p>\n",
       "</div>"
      ],
      "text/plain": [
       "    enzyme                     metabolite  activity  \\\n",
       "0      1a1            4-Aminobenzonitrile     0.716   \n",
       "1      1a1      4-Nitrophenylacetonitrile     0.000   \n",
       "2      1a1  4-(Dimethylamino)benzonitrile     4.363   \n",
       "3      1a1           4-Chlorobenzonitrile     3.998   \n",
       "4      1a1       2,6-Dichlorobenzonitrile     0.000   \n",
       "..     ...                            ...       ...   \n",
       "235  pmi28                  Propionitrile     1.054   \n",
       "236  pmi28            Benzoylacetonitrile     2.902   \n",
       "237  pmi28                 Mandelonitrile     0.000   \n",
       "238  pmi28                   Benzonitrile     4.580   \n",
       "239  pmi28                  Acrylonitrile     0.845   \n",
       "\n",
       "                                                  ECFP  \\\n",
       "0    0000000000000000000000000000000000100000000000...   \n",
       "1    0000000000001000000000000000000000000000000000...   \n",
       "2    0000000000000000000000000000000001100000000000...   \n",
       "3    0000000000000000000000000000000000100000000000...   \n",
       "4    0000000000000001000000000000000000000000000000...   \n",
       "..                                                 ...   \n",
       "235  0000000000000000000000000000000001000000000000...   \n",
       "236  0000000000000000000000000000000000000000000000...   \n",
       "237  0100000000000000000000000000000000000000000000...   \n",
       "238  0000000000000000000000000000000000100000000000...   \n",
       "239  0000000000000000000000000000000000000000000000...   \n",
       "\n",
       "                                              Sequence  \\\n",
       "0    TIVKAAAVQISPVLYSREGTVERVVKKIRELGEKGVQFATFPETVI...   \n",
       "1    TIVKAAAVQISPVLYSREGTVERVVKKIRELGEKGVQFATFPETVI...   \n",
       "2    TIVKAAAVQISPVLYSREGTVERVVKKIRELGEKGVQFATFPETVI...   \n",
       "3    TIVKAAAVQISPVLYSREGTVERVVKKIRELGEKGVQFATFPETVI...   \n",
       "4    TIVKAAAVQISPVLYSREGTVERVVKKIRELGEKGVQFATFPETVI...   \n",
       "..                                                 ...   \n",
       "235  MKIVKAAAVQISPVLYNREATVEKVVQKILELGQQGVQFATFPETV...   \n",
       "236  MKIVKAAAVQISPVLYNREATVEKVVQKILELGQQGVQFATFPETV...   \n",
       "237  MKIVKAAAVQISPVLYNREATVEKVVQKILELGQQGVQFATFPETV...   \n",
       "238  MKIVKAAAVQISPVLYNREATVEKVVQKILELGQQGVQFATFPETV...   \n",
       "239  MKIVKAAAVQISPVLYNREATVEKVVQKILELGQQGVQFATFPETV...   \n",
       "\n",
       "                                              ESM1b_ts  \n",
       "0    [0.9186029, -1.0484099, -0.13906932, 0.1101291...  \n",
       "1    [0.9186029, -1.0484099, -0.13906932, 0.1101291...  \n",
       "2    [0.9186029, -1.0484099, -0.13906932, 0.1101291...  \n",
       "3    [0.9186029, -1.0484099, -0.13906932, 0.1101291...  \n",
       "4    [0.9186029, -1.0484099, -0.13906932, 0.1101291...  \n",
       "..                                                 ...  \n",
       "235  [0.85646003, -1.1750039, -0.1453441, 0.1105357...  \n",
       "236  [0.85646003, -1.1750039, -0.1453441, 0.1105357...  \n",
       "237  [0.85646003, -1.1750039, -0.1453441, 0.1105357...  \n",
       "238  [0.85646003, -1.1750039, -0.1453441, 0.1105357...  \n",
       "239  [0.85646003, -1.1750039, -0.1453441, 0.1105357...  \n",
       "\n",
       "[240 rows x 6 columns]"
      ]
     },
     "execution_count": 2,
     "metadata": {},
     "output_type": "execute_result"
    }
   ],
   "source": [
    "df_test_new = pd.read_pickle(join(CURRENT_DIR, \"..\" ,\"data\", \"Mou_data\", \"Mou_df.pkl\"))\n",
    "                                  \n",
    "df_test_new"
   ]
  },
  {
   "cell_type": "code",
   "execution_count": 3,
   "metadata": {},
   "outputs": [
    {
     "name": "stderr",
     "output_type": "stream",
     "text": [
      "C:\\Users\\alexk\\AppData\\Local\\Temp/ipykernel_9196/235207244.py:11: SettingWithCopyWarning: \n",
      "A value is trying to be set on a copy of a slice from a DataFrame\n",
      "\n",
      "See the caveats in the documentation: https://pandas.pydata.org/pandas-docs/stable/user_guide/indexing.html#returning-a-view-versus-a-copy\n",
      "  df_test_new[\"substrate ID\"][ind] = met\n",
      "C:\\Users\\alexk\\anaconda3\\envs\\Protein\\lib\\site-packages\\pandas\\core\\indexing.py:670: SettingWithCopyWarning: \n",
      "A value is trying to be set on a copy of a slice from a DataFrame\n",
      "\n",
      "See the caveats in the documentation: https://pandas.pydata.org/pandas-docs/stable/user_guide/indexing.html#returning-a-view-versus-a-copy\n",
      "  iloc._setitem_with_indexer(indexer, value)\n",
      "C:\\Users\\alexk\\AppData\\Local\\Temp/ipykernel_9196/235207244.py:9: SettingWithCopyWarning: \n",
      "A value is trying to be set on a copy of a slice from a DataFrame\n",
      "\n",
      "See the caveats in the documentation: https://pandas.pydata.org/pandas-docs/stable/user_guide/indexing.html#returning-a-view-versus-a-copy\n",
      "  df_test_new[\"substrate ID\"][ind] = met_dict[met]\n"
     ]
    }
   ],
   "source": [
    "met_dict = {'2,6-Dichlorobenzonitrile' : \"2_6-dichlorobenzonitrile\",\n",
    "           '⍺-Methylbenzyl cyanide' : \"alpha-methylbenzylcyanide\",\n",
    "           '4-(Dimethylamino)benzonitrile' :\"4-Dimethylamino-benzonitrile\"}\n",
    "\n",
    "df_test_new[\"substrate ID\"] = np.nan\n",
    "for ind in df_test_new.index:\n",
    "    met = df_test_new[\"metabolite\"][ind]\n",
    "    try:\n",
    "        df_test_new[\"substrate ID\"][ind] = met_dict[met]\n",
    "    except KeyError:\n",
    "        df_test_new[\"substrate ID\"][ind] = met"
   ]
  },
  {
   "cell_type": "code",
   "execution_count": 4,
   "metadata": {},
   "outputs": [],
   "source": [
    "mol_files = list(df_test_new[\"substrate ID\"])\n",
    "mol_names = list(df_test_new[\"metabolite\"])"
   ]
  },
  {
   "cell_type": "code",
   "execution_count": 5,
   "metadata": {},
   "outputs": [],
   "source": [
    "def calculate_atom_and_bond_feature_vectors(mol_files, filenames):\n",
    "    #check if feature vectors have already been calculated:\n",
    "    try:\n",
    "        os.mkdir(join(CURRENT_DIR, \"..\" ,\"data\", \"substrate_data\", \"mol_feature_vectors\"))\n",
    "    except FileExistsError:\n",
    "        None\n",
    "    \n",
    "    #existing feature vector files:\n",
    "    feature_files = os.listdir(join(CURRENT_DIR, \"..\" ,\"data\", \"substrate_data\", \"mol_feature_vectors\"))\n",
    "    for i, mol_file in enumerate(mol_files):\n",
    "        mol_name = filenames[i]\n",
    "        #check if feature vectors were already calculated:\n",
    "        if not mol_file + \"-atoms.txt\" in  feature_files:\n",
    "            #load mol_file\n",
    "            is_InChI_ID = (mol_file[0:5] == \"InChI\")\n",
    "            if is_InChI_ID:\n",
    "                    mol = Chem.inchi.MolFromInchi(mol_file)\n",
    "    \n",
    "            else:\n",
    "                mol = Chem.MolFromMolFile(join(CURRENT_DIR, \"..\" ,\"data\",\n",
    "                                               \"Mou_data\",\"nitrile_coordinates\", mol_file + '.mol'))\n",
    "            if not mol is None:\n",
    "                calculate_atom_feature_vector_for_mol_file(mol, mol_file, mol_name)\n",
    "                calculate_bond_feature_vector_for_mol_file(mol, mol_file, mol_name)\n",
    "                \n",
    "def calculate_atom_feature_vector_for_mol_file(mol, mol_file, mol_name):\n",
    "    #get number of atoms N\n",
    "    N = mol.GetNumAtoms()\n",
    "    atom_list = []\n",
    "    for i in range(N):\n",
    "        features = []\n",
    "        atom = mol.GetAtomWithIdx(i)\n",
    "        features.append(atom.GetAtomicNum()), features.append(atom.GetDegree()), features.append(atom.GetFormalCharge())\n",
    "        features.append(str(atom.GetHybridization())), features.append(atom.GetIsAromatic()), features.append(atom.GetMass())\n",
    "        features.append(atom.GetTotalNumHs()), features.append(str(atom.GetChiralTag()))\n",
    "        atom_list.append(features)\n",
    "    with open(join(CURRENT_DIR, \"..\" ,\"data\", \"substrate_data\", \"mol_feature_vectors\", mol_name + \"-atoms.txt\"), \"wb\") as fp:   #Pickling\n",
    "        pickle.dump(atom_list, fp)\n",
    "            \n",
    "def calculate_bond_feature_vector_for_mol_file(mol, mol_file, mol_name):\n",
    "    N = mol.GetNumBonds()\n",
    "    bond_list = []\n",
    "    for i in range(N):\n",
    "        features = []\n",
    "        bond = mol.GetBondWithIdx(i)\n",
    "        features.append(bond.GetBeginAtomIdx()), features.append(bond.GetEndAtomIdx()),\n",
    "        features.append(str(bond.GetBondType())), features.append(bond.GetIsAromatic()),\n",
    "        features.append(bond.IsInRing()), features.append(str(bond.GetStereo()))\n",
    "        bond_list.append(features)\n",
    "    with open(join(CURRENT_DIR, \"..\" ,\"data\", \"substrate_data\", \"mol_feature_vectors\", mol_name + \"-bonds.txt\"), \"wb\") as fp:   #Pickling\n",
    "        pickle.dump(bond_list, fp)"
   ]
  },
  {
   "cell_type": "code",
   "execution_count": 6,
   "metadata": {},
   "outputs": [],
   "source": [
    "calculate_atom_and_bond_feature_vectors(mol_files = mol_files, filenames = mol_names)"
   ]
  },
  {
   "cell_type": "code",
   "execution_count": 7,
   "metadata": {
    "scrolled": true
   },
   "outputs": [],
   "source": [
    "for mol_ID in mol_names:\n",
    "    calculate_and_save_input_matrixes(molecule_ID = mol_ID)"
   ]
  },
  {
   "cell_type": "markdown",
   "metadata": {},
   "source": [
    "### 4. Creating GNN representations for traing and test set:"
   ]
  },
  {
   "cell_type": "markdown",
   "metadata": {},
   "source": [
    "Load trained model:"
   ]
  },
  {
   "cell_type": "code",
   "execution_count": 2,
   "metadata": {},
   "outputs": [
    {
     "data": {
      "text/plain": [
       "GNN(\n",
       "  (BN1): BatchNorm2d(50, eps=1e-05, momentum=0.1, affine=True, track_running_stats=True)\n",
       "  (BN2): BatchNorm2d(50, eps=1e-05, momentum=0.1, affine=True, track_running_stats=True)\n",
       "  (BN3): BatchNorm1d(100, eps=1e-05, momentum=0.1, affine=True, track_running_stats=True)\n",
       "  (linear1): Linear(in_features=100, out_features=32, bias=True)\n",
       "  (linear2): Linear(in_features=32, out_features=1, bias=True)\n",
       "  (drop_layer): Dropout(p=0.2, inplace=False)\n",
       ")"
      ]
     },
     "execution_count": 2,
     "metadata": {},
     "output_type": "execute_result"
    }
   ],
   "source": [
    "model = GNN(D= 50, N = 70, F1 = 32 , F2 = 10, F = F1+F2).to(device)\n",
    "model.load_state_dict(torch.load(join(CURRENT_DIR, \"..\" ,\"data\", \"substrate_data\", \"GNN\",\"Pytorch_GNN\")))\n",
    "model.eval()"
   ]
  },
  {
   "cell_type": "markdown",
   "metadata": {},
   "source": [
    "Loading data:"
   ]
  },
  {
   "cell_type": "code",
   "execution_count": 9,
   "metadata": {},
   "outputs": [],
   "source": [
    "#df_train = pd.read_pickle(join(CURRENT_DIR, \"..\" ,\"data\",\"splits\", \"df_train_with_EC1_1_3_15_with_ESM1b_ts.pkl\"))\n",
    "#df_test = pd.read_pickle(join(CURRENT_DIR, \"..\" ,\"data\", \"splits\", \"df_test_with_EC1_1_3_15_with_ESM1b_ts.pkl\"))\n",
    "df_test_new = pd.read_pickle(join(CURRENT_DIR, \"..\" ,\"data\", \"Mou_data\", \"Mou_df.pkl\"))"
   ]
  },
  {
   "cell_type": "code",
   "execution_count": 10,
   "metadata": {},
   "outputs": [],
   "source": [
    "df_test_new[\"molecule ID\"] = df_test_new[\"metabolite\"]"
   ]
  },
  {
   "cell_type": "markdown",
   "metadata": {},
   "source": [
    "Creating a DataFrame with all metabolites in our dataset:"
   ]
  },
  {
   "cell_type": "code",
   "execution_count": 11,
   "metadata": {},
   "outputs": [
    {
     "data": {
      "text/html": [
       "<div>\n",
       "<style scoped>\n",
       "    .dataframe tbody tr th:only-of-type {\n",
       "        vertical-align: middle;\n",
       "    }\n",
       "\n",
       "    .dataframe tbody tr th {\n",
       "        vertical-align: top;\n",
       "    }\n",
       "\n",
       "    .dataframe thead th {\n",
       "        text-align: right;\n",
       "    }\n",
       "</style>\n",
       "<table border=\"1\" class=\"dataframe\">\n",
       "  <thead>\n",
       "    <tr style=\"text-align: right;\">\n",
       "      <th></th>\n",
       "      <th>molecule ID</th>\n",
       "      <th>uid</th>\n",
       "    </tr>\n",
       "  </thead>\n",
       "  <tbody>\n",
       "    <tr>\n",
       "      <th>0</th>\n",
       "      <td>2,6-Dichlorobenzonitrile</td>\n",
       "      <td>P9WIQ3</td>\n",
       "    </tr>\n",
       "    <tr>\n",
       "      <th>1</th>\n",
       "      <td>2-Aminobenzonitrile</td>\n",
       "      <td>P9WIQ3</td>\n",
       "    </tr>\n",
       "    <tr>\n",
       "      <th>2</th>\n",
       "      <td>2-hydroxyglutarate</td>\n",
       "      <td>P9WIQ3</td>\n",
       "    </tr>\n",
       "    <tr>\n",
       "      <th>3</th>\n",
       "      <td>2-hydroxyoctanoate</td>\n",
       "      <td>P9WIQ3</td>\n",
       "    </tr>\n",
       "    <tr>\n",
       "      <th>4</th>\n",
       "      <td>2-hydroxystearate</td>\n",
       "      <td>P9WIQ3</td>\n",
       "    </tr>\n",
       "    <tr>\n",
       "      <th>...</th>\n",
       "      <td>...</td>\n",
       "      <td>...</td>\n",
       "    </tr>\n",
       "    <tr>\n",
       "      <th>1373</th>\n",
       "      <td>mandelate</td>\n",
       "      <td>P9WIQ3</td>\n",
       "    </tr>\n",
       "    <tr>\n",
       "      <th>1374</th>\n",
       "      <td>Mandelonitrile</td>\n",
       "      <td>P9WIQ3</td>\n",
       "    </tr>\n",
       "    <tr>\n",
       "      <th>1375</th>\n",
       "      <td>Propionitrile</td>\n",
       "      <td>P9WIQ3</td>\n",
       "    </tr>\n",
       "    <tr>\n",
       "      <th>1376</th>\n",
       "      <td>Valeronitrile</td>\n",
       "      <td>P9WIQ3</td>\n",
       "    </tr>\n",
       "    <tr>\n",
       "      <th>1377</th>\n",
       "      <td>⍺-Methylbenzyl cyanide</td>\n",
       "      <td>P9WIQ3</td>\n",
       "    </tr>\n",
       "  </tbody>\n",
       "</table>\n",
       "<p>1378 rows × 2 columns</p>\n",
       "</div>"
      ],
      "text/plain": [
       "                   molecule ID     uid\n",
       "0     2,6-Dichlorobenzonitrile  P9WIQ3\n",
       "1          2-Aminobenzonitrile  P9WIQ3\n",
       "2           2-hydroxyglutarate  P9WIQ3\n",
       "3           2-hydroxyoctanoate  P9WIQ3\n",
       "4            2-hydroxystearate  P9WIQ3\n",
       "...                        ...     ...\n",
       "1373                 mandelate  P9WIQ3\n",
       "1374            Mandelonitrile  P9WIQ3\n",
       "1375             Propionitrile  P9WIQ3\n",
       "1376             Valeronitrile  P9WIQ3\n",
       "1377    ⍺-Methylbenzyl cyanide  P9WIQ3\n",
       "\n",
       "[1378 rows x 2 columns]"
      ]
     },
     "execution_count": 11,
     "metadata": {},
     "output_type": "execute_result"
    }
   ],
   "source": [
    "valid_mols = os.listdir(join(CURRENT_DIR, \"..\" ,\"data\", \"substrate_data\", \"GNN_input_matrices\"))\n",
    "valid_mols = [mol.split(\"_A.npy\")[0] for mol in valid_mols]\n",
    "valid_mols = [mol for mol in valid_mols if not \".\" in mol]\n",
    "df_mols = pd.DataFrame(data = {\"molecule ID\" : valid_mols})\n",
    "\n",
    "#To create the substrate rep, the UID does not matter. Therfore, setting it random:\n",
    "df_mols[\"uid\"] = \"P9WIQ3\"\n",
    "df_mols"
   ]
  },
  {
   "cell_type": "code",
   "execution_count": 12,
   "metadata": {},
   "outputs": [],
   "source": [
    "input_data_folder = join(CURRENT_DIR, \"..\" ,\"data\", \"substrate_data\", \"GNN_input_matrices\")\n",
    "\n",
    "def get_representation_input(cid_list):\n",
    "    XE = ();\n",
    "    X = ();\n",
    "    A = ();\n",
    "    UniRep = ();\n",
    "    extras = ();\n",
    "    # Generate data\n",
    "    for i in range(len(cid_list)):\n",
    "        cid  = cid_list[i]\n",
    "\n",
    "        X = X + (np.load(join(input_data_folder, cid + '_X.npy')), );\n",
    "        XE = XE + (np.load(join(input_data_folder, cid + '_XE.npy')), );\n",
    "        A = A + (np.load(join(input_data_folder, cid + '_A.npy')), );\n",
    "    return(XE, X, A)\n",
    "\n",
    "\n",
    "def get_substrate_representations(df):\n",
    "    df[\"substrate_rep\"] = \"\"\n",
    "    \n",
    "    i = 0\n",
    "    n = len(df)\n",
    "\n",
    "    while i*64 <= n:\n",
    "        cid_all = list(df[\"molecule ID\"])\n",
    "\n",
    "        if (i+1)*64  <= n:\n",
    "            XE, X, A= get_representation_input(cid_all[i*64:(i+1)*64])\n",
    "            \n",
    "            XE = torch.tensor(np.array(XE), dtype = torch.float32).to(device)\n",
    "            X = torch.tensor(np.array(X), dtype = torch.float32).to(device)\n",
    "            A = torch.tensor(np.array(A), dtype = torch.float32).to(device)\n",
    "            representations = model.get_GNN_rep(XE, X,A).cpu().detach().numpy()\n",
    "            df[\"substrate_rep\"][i*64:(i+1)*64] = list(representations[:, :D])\n",
    "        else:\n",
    "            print(i)\n",
    "            XE, X, A= get_representation_input(cid_all[i*64:(i+1)*64])\n",
    "            XE = torch.tensor(np.array(XE), dtype = torch.float32).to(device)\n",
    "            X = torch.tensor(np.array(X), dtype = torch.float32).to(device)\n",
    "            A = torch.tensor(np.array(A), dtype = torch.float32).to(device)\n",
    "            representations = model.get_GNN_rep(XE, X,A).cpu().detach().numpy()\n",
    "            df[\"substrate_rep\"][-len(representations):] = list(representations[:, :D])\n",
    "        i += 1\n",
    "    return(df)"
   ]
  },
  {
   "cell_type": "code",
   "execution_count": 13,
   "metadata": {},
   "outputs": [
    {
     "name": "stdout",
     "output_type": "stream",
     "text": [
      "21\n"
     ]
    },
    {
     "data": {
      "text/html": [
       "<div>\n",
       "<style scoped>\n",
       "    .dataframe tbody tr th:only-of-type {\n",
       "        vertical-align: middle;\n",
       "    }\n",
       "\n",
       "    .dataframe tbody tr th {\n",
       "        vertical-align: top;\n",
       "    }\n",
       "\n",
       "    .dataframe thead th {\n",
       "        text-align: right;\n",
       "    }\n",
       "</style>\n",
       "<table border=\"1\" class=\"dataframe\">\n",
       "  <thead>\n",
       "    <tr style=\"text-align: right;\">\n",
       "      <th></th>\n",
       "      <th>molecule ID</th>\n",
       "      <th>uid</th>\n",
       "      <th>substrate_rep</th>\n",
       "    </tr>\n",
       "  </thead>\n",
       "  <tbody>\n",
       "    <tr>\n",
       "      <th>0</th>\n",
       "      <td>2,6-Dichlorobenzonitrile</td>\n",
       "      <td>P9WIQ3</td>\n",
       "      <td>[106.52673, 194.76971, 202.29494, 3.9334106, 1...</td>\n",
       "    </tr>\n",
       "    <tr>\n",
       "      <th>1</th>\n",
       "      <td>2-Aminobenzonitrile</td>\n",
       "      <td>P9WIQ3</td>\n",
       "      <td>[0.0, 150.40901, 97.39244, 1.6200383, 0.586062...</td>\n",
       "    </tr>\n",
       "    <tr>\n",
       "      <th>2</th>\n",
       "      <td>2-hydroxyglutarate</td>\n",
       "      <td>P9WIQ3</td>\n",
       "      <td>[227.57434, 288.43564, 0.0, 332.77005, 96.4076...</td>\n",
       "    </tr>\n",
       "    <tr>\n",
       "      <th>3</th>\n",
       "      <td>2-hydroxyoctanoate</td>\n",
       "      <td>P9WIQ3</td>\n",
       "      <td>[210.85622, 399.41058, 31.167301, 380.30545, 3...</td>\n",
       "    </tr>\n",
       "    <tr>\n",
       "      <th>4</th>\n",
       "      <td>2-hydroxystearate</td>\n",
       "      <td>P9WIQ3</td>\n",
       "      <td>[434.14682, 953.9577, 151.3173, 985.81024, 39....</td>\n",
       "    </tr>\n",
       "    <tr>\n",
       "      <th>...</th>\n",
       "      <td>...</td>\n",
       "      <td>...</td>\n",
       "      <td>...</td>\n",
       "    </tr>\n",
       "    <tr>\n",
       "      <th>1373</th>\n",
       "      <td>mandelate</td>\n",
       "      <td>P9WIQ3</td>\n",
       "      <td>[0.8413251, 222.21786, 42.490715, 3.3426163, 6...</td>\n",
       "    </tr>\n",
       "    <tr>\n",
       "      <th>1374</th>\n",
       "      <td>Mandelonitrile</td>\n",
       "      <td>P9WIQ3</td>\n",
       "      <td>[0.8413251, 229.04993, 42.604652, 19.163635, 6...</td>\n",
       "    </tr>\n",
       "    <tr>\n",
       "      <th>1375</th>\n",
       "      <td>Propionitrile</td>\n",
       "      <td>P9WIQ3</td>\n",
       "      <td>[2.467718, 49.35915, 10.034855, 5.220823, 1.19...</td>\n",
       "    </tr>\n",
       "    <tr>\n",
       "      <th>1376</th>\n",
       "      <td>Valeronitrile</td>\n",
       "      <td>P9WIQ3</td>\n",
       "      <td>[35.775196, 130.18954, 6.314514, 111.56009, 1....</td>\n",
       "    </tr>\n",
       "    <tr>\n",
       "      <th>1377</th>\n",
       "      <td>⍺-Methylbenzyl cyanide</td>\n",
       "      <td>P9WIQ3</td>\n",
       "      <td>[0.3134181, 336.43884, 90.109375, 1.8972898, 1...</td>\n",
       "    </tr>\n",
       "  </tbody>\n",
       "</table>\n",
       "<p>1378 rows × 3 columns</p>\n",
       "</div>"
      ],
      "text/plain": [
       "                   molecule ID     uid  \\\n",
       "0     2,6-Dichlorobenzonitrile  P9WIQ3   \n",
       "1          2-Aminobenzonitrile  P9WIQ3   \n",
       "2           2-hydroxyglutarate  P9WIQ3   \n",
       "3           2-hydroxyoctanoate  P9WIQ3   \n",
       "4            2-hydroxystearate  P9WIQ3   \n",
       "...                        ...     ...   \n",
       "1373                 mandelate  P9WIQ3   \n",
       "1374            Mandelonitrile  P9WIQ3   \n",
       "1375             Propionitrile  P9WIQ3   \n",
       "1376             Valeronitrile  P9WIQ3   \n",
       "1377    ⍺-Methylbenzyl cyanide  P9WIQ3   \n",
       "\n",
       "                                          substrate_rep  \n",
       "0     [106.52673, 194.76971, 202.29494, 3.9334106, 1...  \n",
       "1     [0.0, 150.40901, 97.39244, 1.6200383, 0.586062...  \n",
       "2     [227.57434, 288.43564, 0.0, 332.77005, 96.4076...  \n",
       "3     [210.85622, 399.41058, 31.167301, 380.30545, 3...  \n",
       "4     [434.14682, 953.9577, 151.3173, 985.81024, 39....  \n",
       "...                                                 ...  \n",
       "1373  [0.8413251, 222.21786, 42.490715, 3.3426163, 6...  \n",
       "1374  [0.8413251, 229.04993, 42.604652, 19.163635, 6...  \n",
       "1375  [2.467718, 49.35915, 10.034855, 5.220823, 1.19...  \n",
       "1376  [35.775196, 130.18954, 6.314514, 111.56009, 1....  \n",
       "1377  [0.3134181, 336.43884, 90.109375, 1.8972898, 1...  \n",
       "\n",
       "[1378 rows x 3 columns]"
      ]
     },
     "execution_count": 13,
     "metadata": {},
     "output_type": "execute_result"
    }
   ],
   "source": [
    "df_mols = get_substrate_representations(df = df_mols)\n",
    "df_mols"
   ]
  },
  {
   "cell_type": "code",
   "execution_count": 9,
   "metadata": {},
   "outputs": [
    {
     "name": "stderr",
     "output_type": "stream",
     "text": [
      "C:\\Users\\alexk\\AppData\\Local\\Temp/ipykernel_4264/2047707114.py:4: SettingWithCopyWarning: \n",
      "A value is trying to be set on a copy of a slice from a DataFrame\n",
      "\n",
      "See the caveats in the documentation: https://pandas.pydata.org/pandas-docs/stable/user_guide/indexing.html#returning-a-view-versus-a-copy\n",
      "  df_train[\"GNN rep\"][ind] = list(df_mols[\"substrate_rep\"].loc[df_mols[\"molecule ID\"] == df_train[\"molecule ID\"][ind].replace(\":\", \"_\")])[0]\n"
     ]
    }
   ],
   "source": [
    "df_train[\"GNN rep\"] = \"\"\n",
    "for ind in df_train.index:\n",
    "    try:\n",
    "        df_train[\"GNN rep\"][ind] = list(df_mols[\"substrate_rep\"].loc[df_mols[\"molecule ID\"] == df_train[\"molecule ID\"][ind].replace(\":\", \"_\")])[0]\n",
    "    except IndexError:\n",
    "        pass"
   ]
  },
  {
   "cell_type": "code",
   "execution_count": 10,
   "metadata": {},
   "outputs": [
    {
     "name": "stderr",
     "output_type": "stream",
     "text": [
      "C:\\Users\\alexk\\AppData\\Local\\Temp/ipykernel_4264/451796927.py:4: SettingWithCopyWarning: \n",
      "A value is trying to be set on a copy of a slice from a DataFrame\n",
      "\n",
      "See the caveats in the documentation: https://pandas.pydata.org/pandas-docs/stable/user_guide/indexing.html#returning-a-view-versus-a-copy\n",
      "  df_test[\"GNN rep\"][ind] = list(df_mols[\"substrate_rep\"].loc[df_mols[\"molecule ID\"] == df_test[\"molecule ID\"][ind].replace(\":\", \"_\")])[0]\n"
     ]
    }
   ],
   "source": [
    "df_test[\"GNN rep\"] = \"\"\n",
    "for ind in df_test.index:\n",
    "    try:\n",
    "        df_test[\"GNN rep\"][ind] = list(df_mols[\"substrate_rep\"].loc[df_mols[\"molecule ID\"] == df_test[\"molecule ID\"][ind].replace(\":\", \"_\")])[0]\n",
    "    except IndexError:\n",
    "        pass"
   ]
  },
  {
   "cell_type": "code",
   "execution_count": 14,
   "metadata": {},
   "outputs": [
    {
     "name": "stderr",
     "output_type": "stream",
     "text": [
      "C:\\Users\\alexk\\AppData\\Local\\Temp/ipykernel_9196/858022514.py:4: SettingWithCopyWarning: \n",
      "A value is trying to be set on a copy of a slice from a DataFrame\n",
      "\n",
      "See the caveats in the documentation: https://pandas.pydata.org/pandas-docs/stable/user_guide/indexing.html#returning-a-view-versus-a-copy\n",
      "  df_test_new[\"GNN rep\"][ind] = list(df_mols[\"substrate_rep\"].loc[df_mols[\"molecule ID\"] == df_test_new[\"molecule ID\"][ind]])[0]\n"
     ]
    }
   ],
   "source": [
    "df_test_new[\"GNN rep\"] = \"\"\n",
    "for ind in df_test_new.index:\n",
    "    try:\n",
    "        df_test_new[\"GNN rep\"][ind] = list(df_mols[\"substrate_rep\"].loc[df_mols[\"molecule ID\"] == df_test_new[\"molecule ID\"][ind]])[0]\n",
    "    except IndexError:\n",
    "        pass"
   ]
  },
  {
   "cell_type": "code",
   "execution_count": 16,
   "metadata": {},
   "outputs": [],
   "source": [
    "#df_train.to_pickle(join(CURRENT_DIR, \"..\" ,\"data\", \"splits\", \"df_train_with_EC1_1_3_15_with_ESM1b_ts_GNN.pkl\"), protocol = 4)\n",
    "#df_test.to_pickle(join(CURRENT_DIR, \"..\" ,\"data\", \"splits\", \"df_test_with_EC1_1_3_15_with_ESM1b_ts_GNN.pkl\"), protocol = 4)\n",
    "df_test_new.to_pickle(join(CURRENT_DIR, \"..\" ,\"data\", \"Mou_data\", \"Mou_df_GNN.pkl\"), protocol = 4)"
   ]
  },
  {
   "cell_type": "code",
   "execution_count": null,
   "metadata": {},
   "outputs": [],
   "source": []
  }
 ],
 "metadata": {
  "kernelspec": {
   "display_name": "Python 3 (ipykernel)",
   "language": "python",
   "name": "python3"
  },
  "language_info": {
   "codemirror_mode": {
    "name": "ipython",
    "version": 3
   },
   "file_extension": ".py",
   "mimetype": "text/x-python",
   "name": "python",
   "nbconvert_exporter": "python",
   "pygments_lexer": "ipython3",
   "version": "3.8.11"
  }
 },
 "nbformat": 4,
 "nbformat_minor": 4
}
